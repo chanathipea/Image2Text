{
 "cells": [
  {
   "cell_type": "markdown",
   "id": "e5280ef6-3e29-4f31-8056-91dbd9299bdd",
   "metadata": {},
   "source": [
    "# Make all PDF files to dataframe"
   ]
  },
  {
   "cell_type": "code",
   "execution_count": 14,
   "id": "0ee3fb99-fcc0-4187-8329-19c1cf79a251",
   "metadata": {},
   "outputs": [],
   "source": [
    "# my_roots_list//lippincottlibrary.wordpress.com/2020/02/05/python-find-files-with-os-walk/\n",
    "import os\n",
    "def list_files(filepath, filetype):\n",
    "    paths = []\n",
    "    roots = []\n",
    "    path1 = []\n",
    "    file1 = []\n",
    "    path = ''\n",
    "    for root, dirs, files in os.walk(filepath):\n",
    "        for file in files:\n",
    "            if file.lower().endswith(filetype.lower()) and os.path.isfile(os.path.join(root, file)):\n",
    "                paths.append(os.path.join(root, file))\n",
    "                roots.append(root)\n",
    "                path = os.path.join(root, file)\n",
    "                path1.append(path[path.find('\\\\',4,len(path)):])\n",
    "                file1.append(file)\n",
    "    return(roots,path1,paths,file1)"
   ]
  },
  {
   "cell_type": "code",
   "execution_count": 15,
   "id": "af9ed56d-5655-43d7-bfba-cfe4f8252923",
   "metadata": {
    "tags": []
   },
   "outputs": [],
   "source": [
    "my_roots_list,my_path_list,my_files_list,my_filenames_list = list_files('.\\\\2021', '.pdf')\n",
    "import pandas as pd\n",
    "file_df = pd.concat([pd.Series(my_files_list),pd.Series(my_roots_list),pd.Series(my_path_list),pd.Series(my_filenames_list)],axis=1)\n",
    "file_df.columns = ['file','dir','path','file_name']\n",
    "file_df['name'] = file_df.file_name.str[:-4]"
   ]
  },
  {
   "cell_type": "code",
   "execution_count": 16,
   "id": "60e23be0",
   "metadata": {},
   "outputs": [],
   "source": [
    "# https://mkyong.com/python/python-how-to-delete-a-file-or-folder/\n",
    "# You should change 'test' to your preferred folder.\n",
    "import shutil\n",
    "MYDIR = (\".\\\\images\")\n",
    "def makedir(MYDIR):\n",
    "    CHECK_FOLDER = os.path.isdir(MYDIR)\n",
    "\n",
    "    # If folder doesn't exist, then create it.\n",
    "    if not CHECK_FOLDER:\n",
    "        os.makedirs(MYDIR)\n",
    "        print(\"created folder : \", MYDIR)\n",
    "\n",
    "    else:\n",
    "        shutil.rmtree(MYDIR)\n",
    "        print(MYDIR, \"folder already exists and re-created\")\n",
    "        os.mkdir(MYDIR)"
   ]
  },
  {
   "cell_type": "code",
   "execution_count": 17,
   "id": "3b9148ce",
   "metadata": {},
   "outputs": [
    {
     "name": "stdout",
     "output_type": "stream",
     "text": [
      ".\\images folder already exists and re-created\n"
     ]
    }
   ],
   "source": [
    "makedir(MYDIR)"
   ]
  },
  {
   "cell_type": "code",
   "execution_count": 18,
   "id": "a94a38a7",
   "metadata": {},
   "outputs": [],
   "source": [
    "# https://www.analyticsvidhya.com/blog/2021/05/how-to-use-progress-bars-in-python/\n",
    "from tqdm.notebook import tqdm_notebook"
   ]
  },
  {
   "cell_type": "code",
   "execution_count": 19,
   "id": "807c3bb3-5dc0-488b-94f1-a498718e5f36",
   "metadata": {
    "tags": []
   },
   "outputs": [
    {
     "data": {
      "application/vnd.jupyter.widget-view+json": {
       "model_id": "378281e653cb4d8d9d1b5ae341daa0d9",
       "version_major": 2,
       "version_minor": 0
      },
      "text/plain": [
       "  0%|          | 0/55 [00:00<?, ?it/s]"
      ]
     },
     "metadata": {},
     "output_type": "display_data"
    },
    {
     "name": "stdout",
     "output_type": "stream",
     "text": [
      "Time2SaveImages 0 days 00:02:02.891476\n"
     ]
    }
   ],
   "source": [
    "from PIL import Image \n",
    "Image.MAX_IMAGE_PIXELS = 1000000000\n",
    "from pdf2image import convert_from_path\n",
    "st = pd.Timestamp.now()\n",
    "# for i in file_df.index:\n",
    "for i in tqdm_notebook(range(len(file_df))):\n",
    "    pdfs = file_df.file[i]\n",
    "    pages = convert_from_path(pdfs, 350)\n",
    "    j = 1\n",
    "    for page in pages:\n",
    "        image_name = '.\\\\images' + '\\\\' + file_df.name[i] + '_page'  + str(j) + '.jpg'\n",
    "#         image_name = '.\\\\images' + file_df.dir[i][1:]+ '\\\\' + file_df.name[i] + '_page'  + str(j) + '.jpg'\n",
    "#         image_name = './images' + file_df.dir[i].str[1:] + '/' + file_df.name[i] + '_page'  + str(j) + '.jpg'\n",
    "        page.save(image_name, \"JPEG\")\n",
    "        j += 1   \n",
    "print(f'Time2SaveImages {pd.Timestamp.now()-st}')"
   ]
  },
  {
   "cell_type": "markdown",
   "id": "c80ab778-3079-4fa8-9bd6-626f9bb5b705",
   "metadata": {},
   "source": [
    "# CV2 read Thai file name"
   ]
  },
  {
   "cell_type": "code",
   "execution_count": 20,
   "id": "protecting-smoke",
   "metadata": {},
   "outputs": [],
   "source": [
    "# https://stackoverflow.com/questions/20831612/getting-the-bounding-box-of-the-recognized-words-using-python-tesseract\n",
    "import pandas as pd\n",
    "import pytesseract\n",
    "pytesseract.pytesseract.tesseract_cmd = r'C:\\Program Files\\Tesseract-OCR\\tesseract.exe'\n",
    "from pytesseract import Output\n",
    "import matplotlib.pyplot as plt\n",
    "import cv2\n",
    "import os"
   ]
  },
  {
   "cell_type": "code",
   "execution_count": 21,
   "id": "c06645d3-464d-4284-ad74-6981998a9125",
   "metadata": {},
   "outputs": [],
   "source": [
    "# https://stackoverflow.com/a/43185606\n",
    "# https://diewland.medium.com/python-cv2-%E0%B9%83%E0%B8%99-windows-%E0%B8%AD%E0%B9%88%E0%B8%B2%E0%B8%99%E0%B9%84%E0%B8%9F%E0%B8%A5%E0%B9%8C%E0%B8%A0%E0%B8%B2%E0%B8%A9%E0%B8%B2%E0%B9%84%E0%B8%97%E0%B8%A2%E0%B9%84%E0%B8%A1%E0%B9%88%E0%B9%84%E0%B8%94%E0%B9%89-f688a4747070\n",
    "import numpy as np\n",
    "import cv2\n",
    "def cv2_imread_win(img_filepath, np):\n",
    "    with open(img_filepath, \"rb\") as stream:\n",
    "        bytes = bytearray(stream.read())\n",
    "        numpyarray = np.asarray(bytes, dtype=np.uint8)\n",
    "        return cv2.imdecode(numpyarray, cv2.IMREAD_UNCHANGED)"
   ]
  },
  {
   "cell_type": "code",
   "execution_count": 22,
   "id": "e79cf4a4-eebf-46ef-acbb-da62be729c0a",
   "metadata": {},
   "outputs": [],
   "source": [
    "def create_rectangle_dataframe(image,file,marked_folder):\n",
    "#     img0 = cv2.imread(image)\n",
    "    img0 = cv2_imread_win(image,np)\n",
    "    img = img0.copy()\n",
    "    df = pd.DataFrame()\n",
    "    d = pytesseract.image_to_data(img, output_type=Output.DICT, config='--psm 12')\n",
    "    n_boxes = len(d['level'])\n",
    "    k = 0\n",
    "    for i in range(n_boxes):\n",
    "        l = []\n",
    "        (x, y, w, h) = (d['left'][i], d['top'][i], d['width'][i], d['height'][i])\n",
    "    #     text = d['text'][i]\n",
    "        text = d['text'][i].replace('—','-').replace('~','-')\n",
    "        if len(text.strip())>5 :\n",
    "            k = k+1\n",
    "            l = pd.Series([file, k, text, x, y, x+w, y+h])\n",
    "            df = df.append(l,ignore_index=True)\n",
    "            (x, y, w, h) = (d['left'][i], d['top'][i], d['width'][i], d['height'][i])\n",
    "            cv2.rectangle(img, (x, y), (x + w, y + h), (0, 255, 0), 2)\n",
    "            cv2.putText(img, '['+str(k)+']'+text, (x, y - 10),cv2.FONT_HERSHEY_SIMPLEX, 0.8, (255, 0, 0), 2)\n",
    "    #         print(i,l.tolist())\n",
    "#     plt.imshow(img)\n",
    "#     plt.imsave('box_in_circle.jpg',img)\n",
    "#     plt.imsave(f'.\\\\data_and_imagesmarked\\\\{file}',img)\n",
    "    plt.imsave(marked_folder+file,img)\n",
    "    return(df)\n",
    "        #     print(text, x, y, x+w, y+h)"
   ]
  },
  {
   "cell_type": "code",
   "execution_count": 23,
   "id": "74f0cc04",
   "metadata": {},
   "outputs": [
    {
     "name": "stdout",
     "output_type": "stream",
     "text": [
      ".\\\\data_and_imagesmarked\\\\ folder already exists and re-created\n"
     ]
    }
   ],
   "source": [
    "marked_folder = r'.\\\\data_and_imagesmarked\\\\'\n",
    "makedir(MYDIR=marked_folder)"
   ]
  },
  {
   "cell_type": "code",
   "execution_count": 24,
   "id": "0c23c7b9-81c3-4da2-83e7-d36d940f23cb",
   "metadata": {
    "tags": []
   },
   "outputs": [
    {
     "data": {
      "application/vnd.jupyter.widget-view+json": {
       "model_id": "a57140b878824766abf32eed8f7c2987",
       "version_major": 2,
       "version_minor": 0
      },
      "text/plain": [
       "  0%|          | 0/55 [00:00<?, ?it/s]"
      ]
     },
     "metadata": {},
     "output_type": "display_data"
    }
   ],
   "source": [
    "df = pd.DataFrame()\n",
    "for root, dirs, files in os.walk('.\\\\images'):\n",
    "        for file in tqdm_notebook(files):\n",
    "            image = os.path.join(root, file)\n",
    "            df0 = create_rectangle_dataframe(image,file,marked_folder)\n",
    "            df = df.append(df0)\n",
    "df.columns = ['file_name','id','text','x1','y1','x2','y2']"
   ]
  },
  {
   "cell_type": "code",
   "execution_count": 25,
   "id": "efa7fce1-c7be-4944-baab-d210a0d56e42",
   "metadata": {},
   "outputs": [],
   "source": [
    "df.columns = ['file_name','id','text','x1','y1','x2','y2']\n",
    "df.to_excel('text_location.xlsx')"
   ]
  },
  {
   "cell_type": "markdown",
   "id": "9320f918-ef68-40dd-a268-71663150f063",
   "metadata": {},
   "source": [
    "# Lookup text to search on drawing"
   ]
  },
  {
   "cell_type": "code",
   "execution_count": 29,
   "id": "classified-belgium",
   "metadata": {},
   "outputs": [],
   "source": [
    "import pandas as pd\n",
    "df = pd.read_excel('text_location.xlsx',index_col=[0])"
   ]
  },
  {
   "cell_type": "code",
   "execution_count": 31,
   "id": "a9573860-ea8b-4f50-a22d-d1e3b05a7baa",
   "metadata": {},
   "outputs": [],
   "source": [
    "import matplotlib.pyplot as plt"
   ]
  },
  {
   "cell_type": "code",
   "execution_count": 32,
   "id": "72b2480a-3af1-442d-a708-17c32f8c58b7",
   "metadata": {},
   "outputs": [],
   "source": [
    "lookup = '15E020'\n",
    "def find_text(lookup):\n",
    "    return df[df.text.str.contains(lookup,na=False)]"
   ]
  },
  {
   "cell_type": "code",
   "execution_count": 33,
   "id": "c4c764ed-5f5e-4888-a29e-c55e2eeb94f9",
   "metadata": {},
   "outputs": [],
   "source": [
    "lookup_df = find_text(lookup=lookup)\n",
    "# lookup_df['id'] = lookup_df['id'].astype(int)\n",
    "lookup_df = lookup_df.astype({'id':'int','x1':'int','x2':'int','y1':'int','y2':'int'})"
   ]
  },
  {
   "cell_type": "code",
   "execution_count": 34,
   "id": "a8e2ee4a",
   "metadata": {},
   "outputs": [
    {
     "name": "stdout",
     "output_type": "stream",
     "text": [
      "<class 'pandas.core.frame.DataFrame'>\n",
      "Int64Index: 3 entries, 4 to 45\n",
      "Data columns (total 7 columns):\n",
      " #   Column     Non-Null Count  Dtype \n",
      "---  ------     --------------  ----- \n",
      " 0   file_name  3 non-null      object\n",
      " 1   id         3 non-null      int32 \n",
      " 2   text       3 non-null      object\n",
      " 3   x1         3 non-null      int32 \n",
      " 4   y1         3 non-null      int32 \n",
      " 5   x2         3 non-null      int32 \n",
      " 6   y2         3 non-null      int32 \n",
      "dtypes: int32(5), object(2)\n",
      "memory usage: 132.0+ bytes\n"
     ]
    }
   ],
   "source": [
    "lookup_df.info()"
   ]
  },
  {
   "cell_type": "code",
   "execution_count": 35,
   "id": "6a447564",
   "metadata": {},
   "outputs": [
    {
     "data": {
      "text/plain": [
       "Index(['69-P-1-15-023-3-5_page1.jpg', '69-P-1-15-036-3-7_page1.jpg'], dtype='object', name='file_name')"
      ]
     },
     "execution_count": 35,
     "metadata": {},
     "output_type": "execute_result"
    }
   ],
   "source": [
    "lookup_file_name = lookup_df.groupby('file_name')['file_name'].count()\n",
    "lookup_file_name = lookup_file_name.index\n",
    "# lookup_file_name = lookup_file_name.values\n",
    "lookup_file_name"
   ]
  },
  {
   "cell_type": "code",
   "execution_count": 36,
   "id": "099ec2bf",
   "metadata": {},
   "outputs": [
    {
     "data": {
      "text/plain": [
       "str"
      ]
     },
     "execution_count": 36,
     "metadata": {},
     "output_type": "execute_result"
    }
   ],
   "source": [
    "type(lookup_file_name[1])"
   ]
  },
  {
   "cell_type": "code",
   "execution_count": 37,
   "id": "839bc0fc",
   "metadata": {},
   "outputs": [
    {
     "data": {
      "text/html": [
       "<div>\n",
       "<style scoped>\n",
       "    .dataframe tbody tr th:only-of-type {\n",
       "        vertical-align: middle;\n",
       "    }\n",
       "\n",
       "    .dataframe tbody tr th {\n",
       "        vertical-align: top;\n",
       "    }\n",
       "\n",
       "    .dataframe thead th {\n",
       "        text-align: right;\n",
       "    }\n",
       "</style>\n",
       "<table border=\"1\" class=\"dataframe\">\n",
       "  <thead>\n",
       "    <tr style=\"text-align: right;\">\n",
       "      <th></th>\n",
       "      <th>file_name</th>\n",
       "      <th>id</th>\n",
       "      <th>text</th>\n",
       "      <th>x1</th>\n",
       "      <th>y1</th>\n",
       "      <th>x2</th>\n",
       "      <th>y2</th>\n",
       "    </tr>\n",
       "  </thead>\n",
       "  <tbody>\n",
       "    <tr>\n",
       "      <th>4</th>\n",
       "      <td>69-P-1-15-023-3-5_page1.jpg</td>\n",
       "      <td>5</td>\n",
       "      <td>15E020</td>\n",
       "      <td>1416</td>\n",
       "      <td>189</td>\n",
       "      <td>1553</td>\n",
       "      <td>219</td>\n",
       "    </tr>\n",
       "    <tr>\n",
       "      <th>57</th>\n",
       "      <td>69-P-1-15-023-3-5_page1.jpg</td>\n",
       "      <td>58</td>\n",
       "      <td>15E020</td>\n",
       "      <td>1574</td>\n",
       "      <td>2140</td>\n",
       "      <td>1710</td>\n",
       "      <td>2170</td>\n",
       "    </tr>\n",
       "  </tbody>\n",
       "</table>\n",
       "</div>"
      ],
      "text/plain": [
       "                      file_name  id    text    x1    y1    x2    y2\n",
       "4   69-P-1-15-023-3-5_page1.jpg   5  15E020  1416   189  1553   219\n",
       "57  69-P-1-15-023-3-5_page1.jpg  58  15E020  1574  2140  1710  2170"
      ]
     },
     "execution_count": 37,
     "metadata": {},
     "output_type": "execute_result"
    }
   ],
   "source": [
    "lookup_df[lookup_df.file_name==lookup_file_name[0]]"
   ]
  },
  {
   "cell_type": "code",
   "execution_count": 38,
   "id": "a7be0e3b",
   "metadata": {},
   "outputs": [
    {
     "name": "stdout",
     "output_type": "stream",
     "text": [
      "69-P-1-15-023-3-5_page1.jpg\n",
      "69-P-1-15-023-3-5_page1.jpg\n",
      "69-P-1-15-036-3-7_page1.jpg\n"
     ]
    }
   ],
   "source": [
    "for i in range(len(lookup_df)):\n",
    "    print(lookup_df.iloc[i].file_name)"
   ]
  },
  {
   "cell_type": "code",
   "execution_count": 39,
   "id": "174d4e33",
   "metadata": {},
   "outputs": [
    {
     "data": {
      "text/html": [
       "<div>\n",
       "<style scoped>\n",
       "    .dataframe tbody tr th:only-of-type {\n",
       "        vertical-align: middle;\n",
       "    }\n",
       "\n",
       "    .dataframe tbody tr th {\n",
       "        vertical-align: top;\n",
       "    }\n",
       "\n",
       "    .dataframe thead th {\n",
       "        text-align: right;\n",
       "    }\n",
       "</style>\n",
       "<table border=\"1\" class=\"dataframe\">\n",
       "  <thead>\n",
       "    <tr style=\"text-align: right;\">\n",
       "      <th></th>\n",
       "      <th>file_name</th>\n",
       "      <th>id</th>\n",
       "      <th>text</th>\n",
       "      <th>x1</th>\n",
       "      <th>y1</th>\n",
       "      <th>x2</th>\n",
       "      <th>y2</th>\n",
       "    </tr>\n",
       "  </thead>\n",
       "  <tbody>\n",
       "    <tr>\n",
       "      <th>4</th>\n",
       "      <td>69-P-1-15-023-3-5_page1.jpg</td>\n",
       "      <td>5</td>\n",
       "      <td>15E020</td>\n",
       "      <td>1416</td>\n",
       "      <td>189</td>\n",
       "      <td>1553</td>\n",
       "      <td>219</td>\n",
       "    </tr>\n",
       "    <tr>\n",
       "      <th>57</th>\n",
       "      <td>69-P-1-15-023-3-5_page1.jpg</td>\n",
       "      <td>58</td>\n",
       "      <td>15E020</td>\n",
       "      <td>1574</td>\n",
       "      <td>2140</td>\n",
       "      <td>1710</td>\n",
       "      <td>2170</td>\n",
       "    </tr>\n",
       "  </tbody>\n",
       "</table>\n",
       "</div>"
      ],
      "text/plain": [
       "                      file_name  id    text    x1    y1    x2    y2\n",
       "4   69-P-1-15-023-3-5_page1.jpg   5  15E020  1416   189  1553   219\n",
       "57  69-P-1-15-023-3-5_page1.jpg  58  15E020  1574  2140  1710  2170"
      ]
     },
     "execution_count": 39,
     "metadata": {},
     "output_type": "execute_result"
    }
   ],
   "source": [
    "lookup_df[lookup_df.file_name==lookup_file_name[0]]"
   ]
  },
  {
   "cell_type": "code",
   "execution_count": 40,
   "id": "076bbf20",
   "metadata": {},
   "outputs": [
    {
     "name": "stdout",
     "output_type": "stream",
     "text": [
      "69-P-1-15-023-3-5_page1.jpg 5 15E020 1416 219 1553 219\n",
      "69-P-1-15-023-3-5_page1.jpg 58 15E020 1574 2170 1710 2170\n"
     ]
    }
   ],
   "source": [
    "a = lookup_df[lookup_df.file_name==lookup_file_name[0]].values\n",
    "for fn,id,text,x1,y1,x2,y2 in a:\n",
    "    print(fn,id,text,x1,y2,x2,y2)"
   ]
  },
  {
   "cell_type": "code",
   "execution_count": 216,
   "id": "84686ff6",
   "metadata": {},
   "outputs": [],
   "source": [
    "img0 = cv2_imread_win(image,np)\n",
    "def find_drawing(image,file,saved_folder):\n",
    "    # img0 = cv2_imread_win(image,np)\n",
    "    img = img0.copy()\n",
    "    cv2.rectangle(img, (x1, y1), (x2, y2), (255, 0, 0), -1)\n",
    "#     cv2.putText(img, find_text(lookup=lookup).text.item(), (x1, y2),cv2.FONT_HERSHEY_SIMPLEX, 0.8, (255, 0, 0), 2)\n",
    "#     img[y1:y2,x1:x2] = crop_text\n",
    "    alpha = 0.6  # Transparency factor.\n",
    "    # Following line overlays transparent rectangle over the image\n",
    "    img_new = cv2.addWeighted(img, alpha, img0, 1 - alpha, 0)\n",
    "    img_new = cv2.arrowedLine(img_new, (x1-50,y1-50), (x1,y1),\n",
    "                                     color=(0, 255, 0), thickness=9, tipLength = 0.5)\n",
    "    print(saved_folder+file)\n",
    "    plt.imsave(saved_folder+file,img_new)\n",
    "    return(find_text(lookup=lookup))"
   ]
  },
  {
   "cell_type": "code",
   "execution_count": 217,
   "id": "b9dc77f5",
   "metadata": {},
   "outputs": [
    {
     "name": "stdout",
     "output_type": "stream",
     "text": [
      "./find/ folder already exists and re-created\n"
     ]
    }
   ],
   "source": [
    "read_folder = r'./images/'\n",
    "save_folder = r'./find/'\n",
    "makedir(save_folder)"
   ]
  },
  {
   "cell_type": "code",
   "execution_count": 218,
   "id": "01b58f0b",
   "metadata": {},
   "outputs": [
    {
     "name": "stdout",
     "output_type": "stream",
     "text": [
      "./find/69-P-1-15-023-3-5_page1.jpg\n",
      "./find/69-P-1-15-023-3-5_page1.jpg\n"
     ]
    }
   ],
   "source": [
    "for fn,id,text,x1,y1,x2,y2 in a:\n",
    "    image = read_folder+fn\n",
    "    find_drawing(image,fn,save_folder)\n"
   ]
  },
  {
   "cell_type": "code",
   "execution_count": 45,
   "id": "f0efcb7c",
   "metadata": {},
   "outputs": [
    {
     "data": {
      "text/plain": [
       "array([['69-P-1-15-023-3-5_page1.jpg', 5, '15E020', 1416, 189, 1553, 219],\n",
       "       ['69-P-1-15-023-3-5_page1.jpg', 58, '15E020', 1574, 2140, 1710,\n",
       "        2170]], dtype=object)"
      ]
     },
     "execution_count": 45,
     "metadata": {},
     "output_type": "execute_result"
    }
   ],
   "source": [
    "a"
   ]
  },
  {
   "cell_type": "code",
   "execution_count": 46,
   "id": "3a5a0bbc",
   "metadata": {},
   "outputs": [
    {
     "name": "stdout",
     "output_type": "stream",
     "text": [
      "./find/ folder already exists and re-created\n"
     ]
    },
    {
     "data": {
      "image/png": "[encoded data removed]",
      "text/plain": [
       "<Figure size 432x288 with 1 Axes>"
      ]
     },
     "metadata": {
      "needs_background": "light"
     },
     "output_type": "display_data"
    }
   ],
   "source": [
    "a = lookup_df[lookup_df.file_name==lookup_file_name[1]].values\n",
    "read_folder = r'./images/'\n",
    "save_folder = r'./find/'\n",
    "makedir(save_folder)\n",
    "image = read_folder+lookup_file_name[1]\n",
    "img0 = cv2_imread_win(image,np)\n",
    "img = img0.copy()\n",
    "for fn,id,text,x1,y1,x2,y2 in a:\n",
    "    cv2.rectangle(img, (x1, y1), (x2, y2), (255, 0, 0), -1)\n",
    "    alpha = 0.6  # Transparency factor.\n",
    "    # Following line overlays transparent rectangle over the image\n",
    "    img = cv2.addWeighted(img, alpha, img0, 1 - alpha, 0)\n",
    "    img = cv2.arrowedLine(img, (x1-50,y1-50), (x1,y1),\n",
    "                                         color=(0, 255, 0), thickness=9, tipLength = 0.5)\n",
    "    # print((x1, y1), (x2, y2))\n",
    "    plt.imshow(img);\n",
    "    # plt.show();\n",
    "plt.imsave(save_folder+file,img)"
   ]
  },
  {
   "cell_type": "code",
   "execution_count": 233,
   "id": "cba8bd64",
   "metadata": {},
   "outputs": [],
   "source": [
    "img_new0 = cv2.arrowedLine(img_new, (x1-50,y1-50), (x1,y1),\n",
    "                                         color=(0, 255, 0), thickness=9, tipLength = 0.5)"
   ]
  },
  {
   "cell_type": "code",
   "execution_count": 234,
   "id": "51445bc0",
   "metadata": {},
   "outputs": [
    {
     "data": {
      "text/plain": [
       "<matplotlib.image.AxesImage at 0x29e854b3a30>"
      ]
     },
     "execution_count": 234,
     "metadata": {},
     "output_type": "execute_result"
    },
    {
     "data": {
      "image/png": "[encoded data removed]",
      "text/plain": [
       "<Figure size 432x288 with 1 Axes>"
      ]
     },
     "metadata": {
      "needs_background": "light"
     },
     "output_type": "display_data"
    }
   ],
   "source": [
    "plt.imshow(img_new0)"
   ]
  },
  {
   "cell_type": "code",
   "execution_count": null,
   "id": "7c64a2d6-a9cc-47b0-9894-fcb324dcb3c1",
   "metadata": {},
   "outputs": [],
   "source": [
    "# https://betterprogramming.pub/highlighting-specific-word-in-an-input-image-1cf3d4f8ae27\n",
    "# https://www.geeksforgeeks.org/python-opencv-cv2-arrowedline-method/\n",
    "read_folder = r'./images/'\n",
    "save_folder = r'./find'\n",
    "image = read_folder+find_text(lookup=lookup).file_name.item()\n",
    "file = find_text(lookup=lookup).file_name.item()\n",
    "x1 = find_text(lookup=lookup).x1.item()\n",
    "x2 = find_text(lookup=lookup).x2.item()\n",
    "y1 = find_text(lookup=lookup).y1.item()\n",
    "y2 = find_text(lookup=lookup).y2.item()\n",
    "# crop_text = cv2_imread_win(image,np)[y1:y2,x1:x2]\n",
    "def find_drawing(image,file,saved_folder):\n",
    "    img0 = cv2_imread_win(image,np)\n",
    "    img = img0.copy()\n",
    "    cv2.rectangle(img, (x1, y1), (x2, y2), (255, 0, 0), -1)\n",
    "#     cv2.putText(img, find_text(lookup=lookup).text.item(), (x1, y2),cv2.FONT_HERSHEY_SIMPLEX, 0.8, (255, 0, 0), 2)\n",
    "#     img[y1:y2,x1:x2] = crop_text\n",
    "    alpha = 0.6  # Transparency factor.\n",
    "    # Following line overlays transparent rectangle over the image\n",
    "    img_new = cv2.addWeighted(img, alpha, img0, 1 - alpha, 0)\n",
    "    img_new = cv2.arrowedLine(img_new, (x1-50,y1-50), (x1,y1),\n",
    "                                     color=(0, 255, 0), thickness=9, tipLength = 0.5)\n",
    "    plt.imsave(saved_folder+file,img_new)\n",
    "    return(find_text(lookup=lookup))"
   ]
  },
  {
   "cell_type": "code",
   "execution_count": 180,
   "id": "319721e4-116e-4c51-8ce9-05691cdd6008",
   "metadata": {},
   "outputs": [
    {
     "ename": "NameError",
     "evalue": "name 'find_drawing' is not defined",
     "output_type": "error",
     "traceback": [
      "\u001b[1;31m---------------------------------------------------------------------------\u001b[0m",
      "\u001b[1;31mNameError\u001b[0m                                 Traceback (most recent call last)",
      "\u001b[1;32m<ipython-input-180-0dbee938ffad>\u001b[0m in \u001b[0;36m<module>\u001b[1;34m\u001b[0m\n\u001b[1;32m----> 1\u001b[1;33m \u001b[0mfind_drawing\u001b[0m\u001b[1;33m(\u001b[0m\u001b[0mimage\u001b[0m\u001b[1;33m,\u001b[0m\u001b[0mfile\u001b[0m\u001b[1;33m,\u001b[0m\u001b[0msave_folder\u001b[0m\u001b[1;33m)\u001b[0m\u001b[1;33m\u001b[0m\u001b[1;33m\u001b[0m\u001b[0m\n\u001b[0m",
      "\u001b[1;31mNameError\u001b[0m: name 'find_drawing' is not defined"
     ]
    }
   ],
   "source": [
    "find_drawing(image,file,save_folder)"
   ]
  },
  {
   "cell_type": "code",
   "execution_count": 2,
   "id": "35049415-59d6-4eed-b106-2e69fb2aafb0",
   "metadata": {},
   "outputs": [],
   "source": [
    "######################################"
   ]
  },
  {
   "cell_type": "code",
   "execution_count": 98,
   "id": "bba54817-0601-4e87-a452-56f434d08b16",
   "metadata": {},
   "outputs": [
    {
     "name": "stdout",
     "output_type": "stream",
     "text": [
      "['./images/19_08-P123001-3-AR2-Layout3-Layout1_page1.jpg']\n"
     ]
    }
   ],
   "source": [
    "read_folder = r'./images/'\n",
    "print(read_folder+find_text(lookup=lookup).file_name.values)"
   ]
  },
  {
   "cell_type": "code",
   "execution_count": 101,
   "id": "ae2e5967-9a2e-45bc-bd2b-fd9c28e0df40",
   "metadata": {},
   "outputs": [
    {
     "data": {
      "text/plain": [
       "array([1699], dtype=int64)"
      ]
     },
     "execution_count": 101,
     "metadata": {},
     "output_type": "execute_result"
    }
   ],
   "source": [
    "find_text(lookup=lookup).x1.values"
   ]
  },
  {
   "cell_type": "code",
   "execution_count": null,
   "id": "446444b6-4587-4cce-8022-c63a168b3db0",
   "metadata": {},
   "outputs": [],
   "source": []
  }
 ],
 "metadata": {
  "kernelspec": {
   "display_name": "Python 3",
   "language": "python",
   "name": "python3"
  },
  "language_info": {
   "codemirror_mode": {
    "name": "ipython",
    "version": 3
   },
   "file_extension": ".py",
   "mimetype": "text/x-python",
   "name": "python",
   "nbconvert_exporter": "python",
   "pygments_lexer": "ipython3",
   "version": "3.8.8"
  }
 },
 "nbformat": 4,
 "nbformat_minor": 5
}

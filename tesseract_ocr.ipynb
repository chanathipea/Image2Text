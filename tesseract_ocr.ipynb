{
 "cells": [
  {
   "cell_type": "markdown",
   "id": "e5280ef6-3e29-4f31-8056-91dbd9299bdd",
   "metadata": {},
   "source": [
    "# Make all PDF files to dataframe"
   ]
  },
  {
   "cell_type": "code",
   "execution_count": null,
   "id": "0ee3fb99-fcc0-4187-8329-19c1cf79a251",
   "metadata": {},
   "outputs": [],
   "source": [
    "# my_roots_list//lippincottlibrary.wordpress.com/2020/02/05/python-find-files-with-os-walk/\n",
    "import os\n",
    "def list_files(filepath, filetype):\n",
    "    paths = []\n",
    "    roots = []\n",
    "    path1 = []\n",
    "    file1 = []\n",
    "    path = ''\n",
    "    for root, dirs, files in os.walk(filepath):\n",
    "        for file in files:\n",
    "            if file.lower().endswith(filetype.lower()) and os.path.isfile(os.path.join(root, file)):\n",
    "                paths.append(os.path.join(root, file))\n",
    "                roots.append(root)\n",
    "                path = os.path.join(root, file)\n",
    "                path1.append(path[path.find('\\\\',4,len(path)):])\n",
    "                file1.append(file)\n",
    "#                 print(os.path.isfile(os.path.join(root, file)),root,os.path.join(root, file),path[path.find('\\\\',4,len(path)):])\n",
    "    return(roots,path1,paths,file1)"
   ]
  },
  {
   "cell_type": "code",
   "execution_count": null,
   "id": "af9ed56d-5655-43d7-bfba-cfe4f8252923",
   "metadata": {
    "tags": []
   },
   "outputs": [],
   "source": [
    "my_roots_list,my_path_list,my_files_list,my_filenames_list = list_files('.\\\\2021', '.pdf')"
   ]
  },
  {
   "cell_type": "code",
   "execution_count": null,
   "id": "84833e10-9d96-4a77-a160-7d801e97a7c4",
   "metadata": {
    "tags": []
   },
   "outputs": [],
   "source": [
    "my_filenames_list"
   ]
  },
  {
   "cell_type": "code",
   "execution_count": null,
   "id": "1f5d6599-d8eb-4bea-8371-b28b3db6aeab",
   "metadata": {
    "tags": []
   },
   "outputs": [],
   "source": [
    "import pandas as pd\n",
    "file_df = pd.concat([pd.Series(my_files_list),pd.Series(my_roots_list),pd.Series(my_path_list),pd.Series(my_filenames_list)],axis=1)\n",
    "file_df.columns = ['file','dir','path','file_name']"
   ]
  },
  {
   "cell_type": "code",
   "execution_count": null,
   "id": "a5dff463-b152-4660-a0fe-c1e090a70e74",
   "metadata": {},
   "outputs": [],
   "source": [
    "file_df['name'] = file_df.file_name.str[:-4]"
   ]
  },
  {
   "cell_type": "code",
   "execution_count": null,
   "id": "46b0c93e-8679-405a-8875-d6b2418bf24e",
   "metadata": {},
   "outputs": [],
   "source": [
    "file_df.head()"
   ]
  },
  {
   "cell_type": "code",
   "execution_count": null,
   "id": "2711d77a-6411-409e-bcef-096a82416ae2",
   "metadata": {
    "tags": []
   },
   "outputs": [],
   "source": [
    "for i in file_df.index[:10]:\n",
    "    print(file_df.name[i])"
   ]
  },
  {
   "cell_type": "code",
   "execution_count": null,
   "id": "344abae7-5589-46a3-92ca-d7eef5918bc8",
   "metadata": {},
   "outputs": [],
   "source": [
    "'.\\images' + file_df.dir[1:3].str[1:]"
   ]
  },
  {
   "cell_type": "code",
   "execution_count": null,
   "id": "807c3bb3-5dc0-488b-94f1-a498718e5f36",
   "metadata": {
    "tags": []
   },
   "outputs": [],
   "source": [
    "from PIL import Image \n",
    "Image.MAX_IMAGE_PIXELS = 1000000000\n",
    "from pdf2image import convert_from_path\n",
    "st = pd.Timestamp.now()\n",
    "# file = './2021/ADU1/Unit 03/69-P-1-03-004-3-24.pdf'\n",
    "# file = '2021113165430.PDF'\n",
    "# pdfs = r\"simple1.pdf\"\n",
    "for i in file_df.index:\n",
    "    pdfs = file_df.file[i]\n",
    "    pages = convert_from_path(pdfs, 350)\n",
    "    j = 1\n",
    "    for page in pages:\n",
    "        image_name = '.\\\\images' + '\\\\' + file_df.name[i] + '_page'  + str(j) + '.jpg'\n",
    "#         image_name = '.\\\\images' + file_df.dir[i][1:]+ '\\\\' + file_df.name[i] + '_page'  + str(j) + '.jpg'\n",
    "#         image_name = './images' + file_df.dir[i].str[1:] + '/' + file_df.name[i] + '_page'  + str(j) + '.jpg'\n",
    "        page.save(image_name, \"JPEG\")\n",
    "        j += 1   \n",
    "print(f'Time2SaveImages {pd.Timestamp.now()-st}')"
   ]
  },
  {
   "cell_type": "code",
   "execution_count": 1,
   "id": "153c3fa2-a419-4687-b71e-5bd7d26bde50",
   "metadata": {},
   "outputs": [],
   "source": [
    "#############################"
   ]
  },
  {
   "cell_type": "code",
   "execution_count": null,
   "id": "89911ffe-628f-475d-ba61-ab365896d7a2",
   "metadata": {},
   "outputs": [],
   "source": [
    "file_df.to_excel('file_df.xlsx')"
   ]
  },
  {
   "cell_type": "code",
   "execution_count": null,
   "id": "fbf45a64-3a33-4550-91af-c8bd7eb1eaae",
   "metadata": {},
   "outputs": [],
   "source": [
    "len(file_df)"
   ]
  },
  {
   "cell_type": "code",
   "execution_count": null,
   "id": "e02904da-c8d3-4163-bc95-d4bf2fc36dd8",
   "metadata": {},
   "outputs": [],
   "source": [
    "i"
   ]
  },
  {
   "cell_type": "code",
   "execution_count": null,
   "id": "82596b19-c54a-4c9b-b06a-26cf3c4c2330",
   "metadata": {
    "tags": []
   },
   "outputs": [],
   "source": [
    "from pdf2image import convert_from_path\n",
    "st = pd.Timestamp.now()\n",
    "# file = './2021/ADU1/Unit 03/69-P-1-03-004-3-24.pdf'\n",
    "# file = '2021113165430.PDF'\n",
    "# pdfs = r\"simple1.pdf\"\n",
    "for i1 in range(i,len(file_df)+1):\n",
    "    pdfs = file_df.file[i1]\n",
    "    pages = convert_from_path(pdfs, 350)\n",
    "    j = 1\n",
    "    for page in pages:\n",
    "        image_name = '.\\\\images' + '\\\\' + file_df.name[i1] + '_page'  + str(j) + '.jpg'\n",
    "#         image_name = '.\\\\images' + file_df.dir[i][1:]+ '\\\\' + file_df.name[i] + '_page'  + str(j) + '.jpg'\n",
    "#         image_name = './images' + file_df.dir[i].str[1:] + '/' + file_df.name[i] + '_page'  + str(j) + '.jpg'\n",
    "        page.save(image_name, \"JPEG\")\n",
    "        j += 1   \n",
    "print(f'Time2SaveImages {pd.Timestamp.now()-st}')"
   ]
  },
  {
   "cell_type": "code",
   "execution_count": null,
   "id": "358c921a-fc05-4416-be0b-099d5154b902",
   "metadata": {},
   "outputs": [],
   "source": [
    "pdfs"
   ]
  },
  {
   "cell_type": "code",
   "execution_count": null,
   "id": "1c86702a-9b5d-46a3-b9d1-6e503f5ae71b",
   "metadata": {},
   "outputs": [],
   "source": [
    "i1"
   ]
  },
  {
   "cell_type": "code",
   "execution_count": null,
   "id": "abstract-preview",
   "metadata": {},
   "outputs": [],
   "source": [
    "from pdf2image import convert_from_path\n",
    "file = './2021/ADU1/Unit 03/69-P-1-03-004-3-24.pdf'\n",
    "# file = '2021113165430.PDF'\n",
    "# pdfs = r\"simple1.pdf\"\n",
    "pdfs = file\n",
    "pages = convert_from_path(pdfs, 350, poppler_path = r'D:\\Setup\\DataScience\\poppler-21.11.0\\Library\\bin')\n",
    "\n",
    "i = 1\n",
    "for page in pages:\n",
    "    image_name = \"69-P-1-03-004-3-24_\" + str(i) + \".jpg\"  \n",
    "    page.save(image_name, \"JPEG\")\n",
    "    i = i+1   "
   ]
  },
  {
   "cell_type": "code",
   "execution_count": null,
   "id": "casual-kuwait",
   "metadata": {},
   "outputs": [],
   "source": [
    "# img0 = cv2.imread('pid_1.jpg')\n",
    "# img = img0.copy()\n",
    "# df = pd.DataFrame()\n",
    "# d = pytesseract.image_to_data(img, output_type=Output.DICT)\n",
    "# n_boxes = len(d['level'])\n",
    "# for i in range(n_boxes):\n",
    "#     (x, y, w, h) = (d['left'][i], d['top'][i], d['width'][i], d['height'][i])\n",
    "#     cv2.rectangle(img, (x, y), (x + w, y + h), (0, 255, 0), 2)\n",
    "# plt.imshow(img)\n",
    "# # plt.imsave('box.jpg',img)\n",
    "# # cv2.imshow('img', img)\n",
    "# # cv2.waitKey(0)\n",
    "# for i in range(n_boxes):\n",
    "# #     l = []\n",
    "#     (x, y, w, h) = (d['left'][i], d['top'][i], d['width'][i], d['height'][i])\n",
    "#     text = d['text'][i]\n",
    "#     l = pd.Series([text, x, y, x+w, y+h])\n",
    "#     df = df.append(l,ignore_index=True)\n",
    "#     print(i,l)\n",
    "# #     print(text, x, y, x+w, y+h)"
   ]
  },
  {
   "cell_type": "code",
   "execution_count": null,
   "id": "beneficial-register",
   "metadata": {},
   "outputs": [],
   "source": [
    "# !pip uninstall opencv-python "
   ]
  },
  {
   "cell_type": "code",
   "execution_count": null,
   "id": "global-standard",
   "metadata": {},
   "outputs": [],
   "source": [
    "import cv2\n",
    "cv2.__version__"
   ]
  },
  {
   "cell_type": "markdown",
   "id": "c80ab778-3079-4fa8-9bd6-626f9bb5b705",
   "metadata": {},
   "source": [
    "# CV2 read Thai file name"
   ]
  },
  {
   "cell_type": "code",
   "execution_count": 74,
   "id": "protecting-smoke",
   "metadata": {},
   "outputs": [],
   "source": [
    "# https://stackoverflow.com/questions/20831612/getting-the-bounding-box-of-the-recognized-words-using-python-tesseract\n",
    "import pandas as pd\n",
    "import pytesseract\n",
    "pytesseract.pytesseract.tesseract_cmd = r'C:\\Program Files\\Tesseract-OCR\\tesseract.exe'\n",
    "from pytesseract import Output\n",
    "import matplotlib.pyplot as plt\n",
    "import cv2\n",
    "import os"
   ]
  },
  {
   "cell_type": "code",
   "execution_count": 7,
   "id": "c06645d3-464d-4284-ad74-6981998a9125",
   "metadata": {},
   "outputs": [],
   "source": [
    "# https://stackoverflow.com/a/43185606\n",
    "# https://diewland.medium.com/python-cv2-%E0%B9%83%E0%B8%99-windows-%E0%B8%AD%E0%B9%88%E0%B8%B2%E0%B8%99%E0%B9%84%E0%B8%9F%E0%B8%A5%E0%B9%8C%E0%B8%A0%E0%B8%B2%E0%B8%A9%E0%B8%B2%E0%B9%84%E0%B8%97%E0%B8%A2%E0%B9%84%E0%B8%A1%E0%B9%88%E0%B9%84%E0%B8%94%E0%B9%89-f688a4747070\n",
    "import numpy as np\n",
    "import cv2\n",
    "def cv2_imread_win(img_filepath, np):\n",
    "    with open(img_filepath, \"rb\") as stream:\n",
    "        bytes = bytearray(stream.read())\n",
    "        numpyarray = np.asarray(bytes, dtype=np.uint8)\n",
    "        return cv2.imdecode(numpyarray, cv2.IMREAD_UNCHANGED)"
   ]
  },
  {
   "cell_type": "code",
   "execution_count": 9,
   "id": "42e2f63b-6c05-487e-8e78-40702b890ee8",
   "metadata": {
    "collapsed": true,
    "jupyter": {
     "outputs_hidden": true
    },
    "tags": []
   },
   "outputs": [],
   "source": [
    "img_filepath = '.\\\\images\\\\เอกสารเซ็นต์รับ ETP วันที่ 8.07.2564_page1.jpg'"
   ]
  },
  {
   "cell_type": "code",
   "execution_count": 16,
   "id": "ef3871bb-9dc4-40aa-8474-7a629295bffd",
   "metadata": {},
   "outputs": [
    {
     "data": {
      "text/plain": [
       "<matplotlib.image.AxesImage at 0x27d6ed7f100>"
      ]
     },
     "execution_count": 16,
     "metadata": {},
     "output_type": "execute_result"
    },
    {
     "data": {
      "image/png": "[encoded data removed]",
      "text/plain": [
       "<Figure size 432x288 with 1 Axes>"
      ]
     },
     "metadata": {
      "needs_background": "light"
     },
     "output_type": "display_data"
    }
   ],
   "source": [
    "import matplotlib.pyplot as plt\n",
    "plt.imshow(cv2_imread_win(img_filepath,np))"
   ]
  },
  {
   "cell_type": "code",
   "execution_count": 65,
   "id": "0067eabd-ecce-42f1-82ed-6bf479b4c171",
   "metadata": {},
   "outputs": [
    {
     "name": "stdout",
     "output_type": "stream",
     "text": [
      ".\\data_and_imagesmarked\\เอกสารเซ็นต์รับ ETP วันที่ 8.07.2564_page1.jpg\n"
     ]
    }
   ],
   "source": [
    "file = 'เอกสารเซ็นต์รับ ETP วันที่ 8.07.2564_page1.jpg'\n",
    "print (f'.\\\\data_and_imagesmarked\\\\{file}')"
   ]
  },
  {
   "cell_type": "code",
   "execution_count": 66,
   "id": "a0ee66d2-b56a-4a6f-998c-4d29b02f6219",
   "metadata": {},
   "outputs": [
    {
     "name": "stdout",
     "output_type": "stream",
     "text": [
      ".\\\\data_and_imagesmarked\\\\เอกสารเซ็นต์รับ ETP วันที่ 8.07.2564_page1.jpg\n"
     ]
    }
   ],
   "source": [
    "print(r'.\\\\data_and_imagesmarked\\\\'+file)"
   ]
  },
  {
   "cell_type": "code",
   "execution_count": 67,
   "id": "d610d9da-8181-4386-bfe3-8ef5bc0c3861",
   "metadata": {},
   "outputs": [
    {
     "name": "stdout",
     "output_type": "stream",
     "text": [
      ".\\\\data_and_imagesmarked\\\\เอกสารเซ็นต์รับ ETP วันที่ 8.07.2564_page1.jpg\n"
     ]
    }
   ],
   "source": [
    "marked_folder = r'.\\\\data_and_imagesmarked\\\\'\n",
    "print(marked_folder+file)"
   ]
  },
  {
   "cell_type": "code",
   "execution_count": 68,
   "id": "e79cf4a4-eebf-46ef-acbb-da62be729c0a",
   "metadata": {},
   "outputs": [],
   "source": [
    "marked_folder = r'.\\\\data_and_imagesmarked\\\\'\n",
    "def create_rectangle_dataframe(image,file,marked_folder):\n",
    "#     img0 = cv2.imread(image)\n",
    "    img0 = cv2_imread_win(image,np)\n",
    "    img = img0.copy()\n",
    "    df = pd.DataFrame()\n",
    "    d = pytesseract.image_to_data(img, output_type=Output.DICT, config='--psm 12')\n",
    "    n_boxes = len(d['level'])\n",
    "    k = 0\n",
    "    for i in range(n_boxes):\n",
    "        l = []\n",
    "        (x, y, w, h) = (d['left'][i], d['top'][i], d['width'][i], d['height'][i])\n",
    "    #     text = d['text'][i]\n",
    "        text = d['text'][i].replace('—','-').replace('~','-')\n",
    "        if len(text.strip())>5 :\n",
    "            k = k+1\n",
    "            l = pd.Series([file, k, text, x, y, x+w, y+h])\n",
    "            df = df.append(l,ignore_index=True)\n",
    "            (x, y, w, h) = (d['left'][i], d['top'][i], d['width'][i], d['height'][i])\n",
    "            cv2.rectangle(img, (x, y), (x + w, y + h), (0, 255, 0), 2)\n",
    "            cv2.putText(img, '['+str(k)+']'+text, (x, y - 10),cv2.FONT_HERSHEY_SIMPLEX, 0.8, (255, 0, 0), 2)\n",
    "    #         print(i,l.tolist())\n",
    "#     plt.imshow(img)\n",
    "#     plt.imsave('box_in_circle.jpg',img)\n",
    "#     plt.imsave(f'.\\\\data_and_imagesmarked\\\\{file}',img)\n",
    "    plt.imsave(marked_folder+file,img)\n",
    "    return(df)\n",
    "        #     print(text, x, y, x+w, y+h)"
   ]
  },
  {
   "cell_type": "code",
   "execution_count": null,
   "id": "52c1a7ba-7751-4aa8-8fed-12059dd87940",
   "metadata": {
    "tags": []
   },
   "outputs": [],
   "source": [
    "# df = pd.DataFrame()\n",
    "# for root, dirs, files in os.walk('.\\\\images'):\n",
    "#         for file in files[:2]:\n",
    "#             image = os.path.join(root, file)\n",
    "#             df0 = create_rectangle_dataframe(image,file)\n",
    "# #             df.append(df0)"
   ]
  },
  {
   "cell_type": "code",
   "execution_count": 3,
   "id": "0c23c7b9-81c3-4da2-83e7-d36d940f23cb",
   "metadata": {
    "tags": []
   },
   "outputs": [
    {
     "ename": "AttributeError",
     "evalue": "'NoneType' object has no attribute 'copy'",
     "output_type": "error",
     "traceback": [
      "\u001b[1;31m---------------------------------------------------------------------------\u001b[0m",
      "\u001b[1;31mAttributeError\u001b[0m                            Traceback (most recent call last)",
      "\u001b[1;32m<ipython-input-3-b283bfeaf1a5>\u001b[0m in \u001b[0;36m<module>\u001b[1;34m\u001b[0m\n\u001b[0;32m      3\u001b[0m         \u001b[1;32mfor\u001b[0m \u001b[0mfile\u001b[0m \u001b[1;32min\u001b[0m \u001b[0mfiles\u001b[0m\u001b[1;33m:\u001b[0m\u001b[1;33m\u001b[0m\u001b[1;33m\u001b[0m\u001b[0m\n\u001b[0;32m      4\u001b[0m             \u001b[0mimage\u001b[0m \u001b[1;33m=\u001b[0m \u001b[0mos\u001b[0m\u001b[1;33m.\u001b[0m\u001b[0mpath\u001b[0m\u001b[1;33m.\u001b[0m\u001b[0mjoin\u001b[0m\u001b[1;33m(\u001b[0m\u001b[0mroot\u001b[0m\u001b[1;33m,\u001b[0m \u001b[0mfile\u001b[0m\u001b[1;33m)\u001b[0m\u001b[1;33m\u001b[0m\u001b[1;33m\u001b[0m\u001b[0m\n\u001b[1;32m----> 5\u001b[1;33m             \u001b[0mdf0\u001b[0m \u001b[1;33m=\u001b[0m \u001b[0mcreate_rectangle_dataframe\u001b[0m\u001b[1;33m(\u001b[0m\u001b[0mimage\u001b[0m\u001b[1;33m,\u001b[0m\u001b[0mfile\u001b[0m\u001b[1;33m)\u001b[0m\u001b[1;33m\u001b[0m\u001b[1;33m\u001b[0m\u001b[0m\n\u001b[0m\u001b[0;32m      6\u001b[0m             \u001b[0mdf\u001b[0m \u001b[1;33m=\u001b[0m \u001b[0mdf\u001b[0m\u001b[1;33m.\u001b[0m\u001b[0mappend\u001b[0m\u001b[1;33m(\u001b[0m\u001b[0mdf0\u001b[0m\u001b[1;33m)\u001b[0m\u001b[1;33m\u001b[0m\u001b[1;33m\u001b[0m\u001b[0m\n\u001b[0;32m      7\u001b[0m \u001b[0mdf\u001b[0m\u001b[1;33m.\u001b[0m\u001b[0mcolumns\u001b[0m \u001b[1;33m=\u001b[0m \u001b[1;33m[\u001b[0m\u001b[1;34m'file_name'\u001b[0m\u001b[1;33m,\u001b[0m\u001b[1;34m'id'\u001b[0m\u001b[1;33m,\u001b[0m\u001b[1;34m'text'\u001b[0m\u001b[1;33m,\u001b[0m\u001b[1;34m'x1'\u001b[0m\u001b[1;33m,\u001b[0m\u001b[1;34m'y1'\u001b[0m\u001b[1;33m,\u001b[0m\u001b[1;34m'x2'\u001b[0m\u001b[1;33m,\u001b[0m\u001b[1;34m'y2'\u001b[0m\u001b[1;33m]\u001b[0m\u001b[1;33m\u001b[0m\u001b[1;33m\u001b[0m\u001b[0m\n",
      "\u001b[1;32m<ipython-input-2-12136a1d4b40>\u001b[0m in \u001b[0;36mcreate_rectangle_dataframe\u001b[1;34m(image, file)\u001b[0m\n\u001b[0;32m      1\u001b[0m \u001b[1;32mdef\u001b[0m \u001b[0mcreate_rectangle_dataframe\u001b[0m\u001b[1;33m(\u001b[0m\u001b[0mimage\u001b[0m\u001b[1;33m,\u001b[0m\u001b[0mfile\u001b[0m\u001b[1;33m)\u001b[0m\u001b[1;33m:\u001b[0m\u001b[1;33m\u001b[0m\u001b[1;33m\u001b[0m\u001b[0m\n\u001b[0;32m      2\u001b[0m     \u001b[0mimg0\u001b[0m \u001b[1;33m=\u001b[0m \u001b[0mcv2\u001b[0m\u001b[1;33m.\u001b[0m\u001b[0mimread\u001b[0m\u001b[1;33m(\u001b[0m\u001b[0mimage\u001b[0m\u001b[1;33m)\u001b[0m\u001b[1;33m\u001b[0m\u001b[1;33m\u001b[0m\u001b[0m\n\u001b[1;32m----> 3\u001b[1;33m     \u001b[0mimg\u001b[0m \u001b[1;33m=\u001b[0m \u001b[0mimg0\u001b[0m\u001b[1;33m.\u001b[0m\u001b[0mcopy\u001b[0m\u001b[1;33m(\u001b[0m\u001b[1;33m)\u001b[0m\u001b[1;33m\u001b[0m\u001b[1;33m\u001b[0m\u001b[0m\n\u001b[0m\u001b[0;32m      4\u001b[0m     \u001b[0mdf\u001b[0m \u001b[1;33m=\u001b[0m \u001b[0mpd\u001b[0m\u001b[1;33m.\u001b[0m\u001b[0mDataFrame\u001b[0m\u001b[1;33m(\u001b[0m\u001b[1;33m)\u001b[0m\u001b[1;33m\u001b[0m\u001b[1;33m\u001b[0m\u001b[0m\n\u001b[0;32m      5\u001b[0m     \u001b[0md\u001b[0m \u001b[1;33m=\u001b[0m \u001b[0mpytesseract\u001b[0m\u001b[1;33m.\u001b[0m\u001b[0mimage_to_data\u001b[0m\u001b[1;33m(\u001b[0m\u001b[0mimg\u001b[0m\u001b[1;33m,\u001b[0m \u001b[0moutput_type\u001b[0m\u001b[1;33m=\u001b[0m\u001b[0mOutput\u001b[0m\u001b[1;33m.\u001b[0m\u001b[0mDICT\u001b[0m\u001b[1;33m,\u001b[0m \u001b[0mconfig\u001b[0m\u001b[1;33m=\u001b[0m\u001b[1;34m'--psm 12'\u001b[0m\u001b[1;33m)\u001b[0m\u001b[1;33m\u001b[0m\u001b[1;33m\u001b[0m\u001b[0m\n",
      "\u001b[1;31mAttributeError\u001b[0m: 'NoneType' object has no attribute 'copy'"
     ]
    }
   ],
   "source": [
    "df = pd.DataFrame()\n",
    "for root, dirs, files in os.walk('.\\\\images'):\n",
    "        for file in files:\n",
    "            image = os.path.join(root, file)\n",
    "            df0 = create_rectangle_dataframe(image,file)\n",
    "            df = df.append(df0)\n",
    "df.columns = ['file_name','id','text','x1','y1','x2','y2']"
   ]
  },
  {
   "cell_type": "code",
   "execution_count": 21,
   "id": "efa7fce1-c7be-4944-baab-d210a0d56e42",
   "metadata": {},
   "outputs": [],
   "source": [
    "df.columns = ['file_name','id','text','x1','y1','x2','y2']\n",
    "df.to_excel('text_location.xlsx')"
   ]
  },
  {
   "cell_type": "code",
   "execution_count": 18,
   "id": "84b4f9a8-09d2-4b47-89c3-96a8203d7228",
   "metadata": {},
   "outputs": [],
   "source": [
    "#####################################"
   ]
  },
  {
   "cell_type": "code",
   "execution_count": 77,
   "id": "17290df2-efea-4b91-9b24-1cf11b9deab9",
   "metadata": {
    "tags": []
   },
   "outputs": [
    {
     "data": {
      "text/plain": [
       "'เอกสารเซ็นต์รับ ETP วันที่ 8.07.2564_page1.jpg'"
      ]
     },
     "execution_count": 77,
     "metadata": {},
     "output_type": "execute_result"
    }
   ],
   "source": [
    "file"
   ]
  },
  {
   "cell_type": "code",
   "execution_count": 78,
   "id": "b35b87d6-7f24-44d8-b364-ae19520fe93d",
   "metadata": {
    "tags": []
   },
   "outputs": [
    {
     "name": "stdout",
     "output_type": "stream",
     "text": [
      ".\\images\\เอกสารเซ็นต์รับ ETP วันที่ 8.07.2564_page1.jpg\n"
     ]
    }
   ],
   "source": [
    "image = '.\\\\images\\\\'+file\n",
    "print(image)"
   ]
  },
  {
   "cell_type": "code",
   "execution_count": 79,
   "id": "d6811287-0c31-47f1-b3ad-f85ec4da811f",
   "metadata": {},
   "outputs": [],
   "source": [
    "df1 = create_rectangle_dataframe(image=image, file=file, marked_folder=r'.\\\\')"
   ]
  },
  {
   "cell_type": "code",
   "execution_count": 80,
   "id": "dbd02ec5-bd54-4da1-ba34-7f4c2f4e5734",
   "metadata": {
    "collapsed": true,
    "jupyter": {
     "outputs_hidden": true
    },
    "tags": []
   },
   "outputs": [
    {
     "data": {
      "text/html": [
       "<div>\n",
       "<style scoped>\n",
       "    .dataframe tbody tr th:only-of-type {\n",
       "        vertical-align: middle;\n",
       "    }\n",
       "\n",
       "    .dataframe tbody tr th {\n",
       "        vertical-align: top;\n",
       "    }\n",
       "\n",
       "    .dataframe thead th {\n",
       "        text-align: right;\n",
       "    }\n",
       "</style>\n",
       "<table border=\"1\" class=\"dataframe\">\n",
       "  <thead>\n",
       "    <tr style=\"text-align: right;\">\n",
       "      <th></th>\n",
       "      <th>0</th>\n",
       "      <th>1</th>\n",
       "      <th>2</th>\n",
       "      <th>3</th>\n",
       "      <th>4</th>\n",
       "      <th>5</th>\n",
       "      <th>6</th>\n",
       "    </tr>\n",
       "  </thead>\n",
       "  <tbody>\n",
       "    <tr>\n",
       "      <th>0</th>\n",
       "      <td>เอกสารเซ็นต์รับ ETP วันที่ 8.07.2564_page1.jpg</td>\n",
       "      <td>1.0</td>\n",
       "      <td>9900F-812</td>\n",
       "      <td>2920.0</td>\n",
       "      <td>627.0</td>\n",
       "      <td>3168.0</td>\n",
       "      <td>657.0</td>\n",
       "    </tr>\n",
       "    <tr>\n",
       "      <th>1</th>\n",
       "      <td>เอกสารเซ็นต์รับ ETP วันที่ 8.07.2564_page1.jpg</td>\n",
       "      <td>2.0</td>\n",
       "      <td>uuuWasNludidatanays</td>\n",
       "      <td>1637.0</td>\n",
       "      <td>698.0</td>\n",
       "      <td>2225.0</td>\n",
       "      <td>752.0</td>\n",
       "    </tr>\n",
       "    <tr>\n",
       "      <th>2</th>\n",
       "      <td>เอกสารเซ็นต์รับ ETP วันที่ 8.07.2564_page1.jpg</td>\n",
       "      <td>3.0</td>\n",
       "      <td>naanisunaun</td>\n",
       "      <td>909.0</td>\n",
       "      <td>845.0</td>\n",
       "      <td>1177.0</td>\n",
       "      <td>873.0</td>\n",
       "    </tr>\n",
       "    <tr>\n",
       "      <th>3</th>\n",
       "      <td>เอกสารเซ็นต์รับ ETP วันที่ 8.07.2564_page1.jpg</td>\n",
       "      <td>4.0</td>\n",
       "      <td>areaqy</td>\n",
       "      <td>1378.0</td>\n",
       "      <td>843.0</td>\n",
       "      <td>1526.0</td>\n",
       "      <td>871.0</td>\n",
       "    </tr>\n",
       "    <tr>\n",
       "      <th>4</th>\n",
       "      <td>เอกสารเซ็นต์รับ ETP วันที่ 8.07.2564_page1.jpg</td>\n",
       "      <td>5.0</td>\n",
       "      <td>Prerrerrerrrt</td>\n",
       "      <td>1648.0</td>\n",
       "      <td>883.0</td>\n",
       "      <td>1766.0</td>\n",
       "      <td>911.0</td>\n",
       "    </tr>\n",
       "    <tr>\n",
       "      <th>5</th>\n",
       "      <td>เอกสารเซ็นต์รับ ETP วันที่ 8.07.2564_page1.jpg</td>\n",
       "      <td>6.0</td>\n",
       "      <td>retiree</td>\n",
       "      <td>1774.0</td>\n",
       "      <td>883.0</td>\n",
       "      <td>1981.0</td>\n",
       "      <td>911.0</td>\n",
       "    </tr>\n",
       "    <tr>\n",
       "      <th>6</th>\n",
       "      <td>เอกสารเซ็นต์รับ ETP วันที่ 8.07.2564_page1.jpg</td>\n",
       "      <td>7.0</td>\n",
       "      <td>enenseesenseuseaseaserenaneennennennenneneenas...</td>\n",
       "      <td>1199.0</td>\n",
       "      <td>995.0</td>\n",
       "      <td>1785.0</td>\n",
       "      <td>1003.0</td>\n",
       "    </tr>\n",
       "    <tr>\n",
       "      <th>7</th>\n",
       "      <td>เอกสารเซ็นต์รับ ETP วันที่ 8.07.2564_page1.jpg</td>\n",
       "      <td>8.0</td>\n",
       "      <td>LANWNS</td>\n",
       "      <td>1049.0</td>\n",
       "      <td>943.0</td>\n",
       "      <td>1201.0</td>\n",
       "      <td>971.0</td>\n",
       "    </tr>\n",
       "    <tr>\n",
       "      <th>8</th>\n",
       "      <td>เอกสารเซ็นต์รับ ETP วันที่ 8.07.2564_page1.jpg</td>\n",
       "      <td>9.0</td>\n",
       "      <td>/aIsIIU</td>\n",
       "      <td>2027.0</td>\n",
       "      <td>926.0</td>\n",
       "      <td>2195.0</td>\n",
       "      <td>972.0</td>\n",
       "    </tr>\n",
       "    <tr>\n",
       "      <th>9</th>\n",
       "      <td>เอกสารเซ็นต์รับ ETP วันที่ 8.07.2564_page1.jpg</td>\n",
       "      <td>10.0</td>\n",
       "      <td>eererrerrrrrrrrrriiri</td>\n",
       "      <td>1190.0</td>\n",
       "      <td>1071.0</td>\n",
       "      <td>1383.0</td>\n",
       "      <td>1099.0</td>\n",
       "    </tr>\n",
       "    <tr>\n",
       "      <th>10</th>\n",
       "      <td>เอกสารเซ็นต์รับ ETP วันที่ 8.07.2564_page1.jpg</td>\n",
       "      <td>11.0</td>\n",
       "      <td>AINMAN</td>\n",
       "      <td>1412.0</td>\n",
       "      <td>1035.0</td>\n",
       "      <td>1578.0</td>\n",
       "      <td>1072.0</td>\n",
       "    </tr>\n",
       "    <tr>\n",
       "      <th>11</th>\n",
       "      <td>เอกสารเซ็นต์รับ ETP วันที่ 8.07.2564_page1.jpg</td>\n",
       "      <td>12.0</td>\n",
       "      <td>enenannennenaenaenaensenacene</td>\n",
       "      <td>1864.0</td>\n",
       "      <td>1082.0</td>\n",
       "      <td>2137.0</td>\n",
       "      <td>1088.0</td>\n",
       "    </tr>\n",
       "    <tr>\n",
       "      <th>12</th>\n",
       "      <td>เอกสารเซ็นต์รับ ETP วันที่ 8.07.2564_page1.jpg</td>\n",
       "      <td>13.0</td>\n",
       "      <td>tueeeconcceces</td>\n",
       "      <td>865.0</td>\n",
       "      <td>1086.0</td>\n",
       "      <td>990.0</td>\n",
       "      <td>1091.0</td>\n",
       "    </tr>\n",
       "    <tr>\n",
       "      <th>13</th>\n",
       "      <td>เอกสารเซ็นต์รับ ETP วันที่ 8.07.2564_page1.jpg</td>\n",
       "      <td>14.0</td>\n",
       "      <td>leanne</td>\n",
       "      <td>2326.0</td>\n",
       "      <td>1164.0</td>\n",
       "      <td>2403.0</td>\n",
       "      <td>1170.0</td>\n",
       "    </tr>\n",
       "    <tr>\n",
       "      <th>14</th>\n",
       "      <td>เอกสารเซ็นต์รับ ETP วันที่ 8.07.2564_page1.jpg</td>\n",
       "      <td>15.0</td>\n",
       "      <td>eneneeeneensnennannennenaenannaewenseeueusenee...</td>\n",
       "      <td>2576.0</td>\n",
       "      <td>1161.0</td>\n",
       "      <td>3208.0</td>\n",
       "      <td>1169.0</td>\n",
       "    </tr>\n",
       "    <tr>\n",
       "      <th>15</th>\n",
       "      <td>เอกสารเซ็นต์รับ ETP วันที่ 8.07.2564_page1.jpg</td>\n",
       "      <td>16.0</td>\n",
       "      <td>PROJECT</td>\n",
       "      <td>2157.0</td>\n",
       "      <td>1198.0</td>\n",
       "      <td>2307.0</td>\n",
       "      <td>1223.0</td>\n",
       "    </tr>\n",
       "    <tr>\n",
       "      <th>16</th>\n",
       "      <td>เอกสารเซ็นต์รับ ETP วันที่ 8.07.2564_page1.jpg</td>\n",
       "      <td>17.0</td>\n",
       "      <td>Seerrerrrrrerrrrertrrttrtttttrtrrttrttt</td>\n",
       "      <td>2463.0</td>\n",
       "      <td>1234.0</td>\n",
       "      <td>2823.0</td>\n",
       "      <td>1262.0</td>\n",
       "    </tr>\n",
       "    <tr>\n",
       "      <th>17</th>\n",
       "      <td>เอกสารเซ็นต์รับ ETP วันที่ 8.07.2564_page1.jpg</td>\n",
       "      <td>18.0</td>\n",
       "      <td>VIBASLAIA</td>\n",
       "      <td>1541.0</td>\n",
       "      <td>1340.0</td>\n",
       "      <td>1761.0</td>\n",
       "      <td>1368.0</td>\n",
       "    </tr>\n",
       "    <tr>\n",
       "      <th>18</th>\n",
       "      <td>เอกสารเซ็นต์รับ ETP วันที่ 8.07.2564_page1.jpg</td>\n",
       "      <td>19.0</td>\n",
       "      <td>AIWVNIIIVLAN</td>\n",
       "      <td>2831.0</td>\n",
       "      <td>1333.0</td>\n",
       "      <td>3180.0</td>\n",
       "      <td>1363.0</td>\n",
       "    </tr>\n",
       "    <tr>\n",
       "      <th>19</th>\n",
       "      <td>เอกสารเซ็นต์รับ ETP วันที่ 8.07.2564_page1.jpg</td>\n",
       "      <td>20.0</td>\n",
       "      <td>ETHYLENE</td>\n",
       "      <td>1249.0</td>\n",
       "      <td>1572.0</td>\n",
       "      <td>1504.0</td>\n",
       "      <td>1606.0</td>\n",
       "    </tr>\n",
       "    <tr>\n",
       "      <th>20</th>\n",
       "      <td>เอกสารเซ็นต์รับ ETP วันที่ 8.07.2564_page1.jpg</td>\n",
       "      <td>21.0</td>\n",
       "      <td>PROPYLENE</td>\n",
       "      <td>1250.0</td>\n",
       "      <td>1752.0</td>\n",
       "      <td>1533.0</td>\n",
       "      <td>1787.0</td>\n",
       "    </tr>\n",
       "    <tr>\n",
       "      <th>21</th>\n",
       "      <td>เอกสารเซ็นต์รับ ETP วันที่ 8.07.2564_page1.jpg</td>\n",
       "      <td>22.0</td>\n",
       "      <td>sanatbeiseneasetesng</td>\n",
       "      <td>2569.0</td>\n",
       "      <td>1913.0</td>\n",
       "      <td>2772.0</td>\n",
       "      <td>1948.0</td>\n",
       "    </tr>\n",
       "    <tr>\n",
       "      <th>22</th>\n",
       "      <td>เอกสารเซ็นต์รับ ETP วันที่ 8.07.2564_page1.jpg</td>\n",
       "      <td>23.0</td>\n",
       "      <td>nonnnsnovewenis</td>\n",
       "      <td>2955.0</td>\n",
       "      <td>1907.0</td>\n",
       "      <td>3091.0</td>\n",
       "      <td>1939.0</td>\n",
       "    </tr>\n",
       "    <tr>\n",
       "      <th>23</th>\n",
       "      <td>เอกสารเซ็นต์รับ ETP วันที่ 8.07.2564_page1.jpg</td>\n",
       "      <td>24.0</td>\n",
       "      <td>BDANIUIIW</td>\n",
       "      <td>2740.0</td>\n",
       "      <td>2040.0</td>\n",
       "      <td>2961.0</td>\n",
       "      <td>2068.0</td>\n",
       "    </tr>\n",
       "    <tr>\n",
       "      <th>24</th>\n",
       "      <td>เอกสารเซ็นต์รับ ETP วันที่ 8.07.2564_page1.jpg</td>\n",
       "      <td>25.0</td>\n",
       "      <td>Equipment</td>\n",
       "      <td>1007.0</td>\n",
       "      <td>2088.0</td>\n",
       "      <td>1221.0</td>\n",
       "      <td>2131.0</td>\n",
       "    </tr>\n",
       "    <tr>\n",
       "      <th>25</th>\n",
       "      <td>เอกสารเซ็นต์รับ ETP วันที่ 8.07.2564_page1.jpg</td>\n",
       "      <td>26.0</td>\n",
       "      <td>30/6/2021</td>\n",
       "      <td>2044.0</td>\n",
       "      <td>2084.0</td>\n",
       "      <td>2289.0</td>\n",
       "      <td>2117.0</td>\n",
       "    </tr>\n",
       "    <tr>\n",
       "      <th>26</th>\n",
       "      <td>เอกสารเซ็นต์รับ ETP วันที่ 8.07.2564_page1.jpg</td>\n",
       "      <td>27.0</td>\n",
       "      <td>ATAawuUNaINuAAUGI</td>\n",
       "      <td>2582.0</td>\n",
       "      <td>2188.0</td>\n",
       "      <td>3193.0</td>\n",
       "      <td>2225.0</td>\n",
       "    </tr>\n",
       "  </tbody>\n",
       "</table>\n",
       "</div>"
      ],
      "text/plain": [
       "                                                 0     1  \\\n",
       "0   เอกสารเซ็นต์รับ ETP วันที่ 8.07.2564_page1.jpg   1.0   \n",
       "1   เอกสารเซ็นต์รับ ETP วันที่ 8.07.2564_page1.jpg   2.0   \n",
       "2   เอกสารเซ็นต์รับ ETP วันที่ 8.07.2564_page1.jpg   3.0   \n",
       "3   เอกสารเซ็นต์รับ ETP วันที่ 8.07.2564_page1.jpg   4.0   \n",
       "4   เอกสารเซ็นต์รับ ETP วันที่ 8.07.2564_page1.jpg   5.0   \n",
       "5   เอกสารเซ็นต์รับ ETP วันที่ 8.07.2564_page1.jpg   6.0   \n",
       "6   เอกสารเซ็นต์รับ ETP วันที่ 8.07.2564_page1.jpg   7.0   \n",
       "7   เอกสารเซ็นต์รับ ETP วันที่ 8.07.2564_page1.jpg   8.0   \n",
       "8   เอกสารเซ็นต์รับ ETP วันที่ 8.07.2564_page1.jpg   9.0   \n",
       "9   เอกสารเซ็นต์รับ ETP วันที่ 8.07.2564_page1.jpg  10.0   \n",
       "10  เอกสารเซ็นต์รับ ETP วันที่ 8.07.2564_page1.jpg  11.0   \n",
       "11  เอกสารเซ็นต์รับ ETP วันที่ 8.07.2564_page1.jpg  12.0   \n",
       "12  เอกสารเซ็นต์รับ ETP วันที่ 8.07.2564_page1.jpg  13.0   \n",
       "13  เอกสารเซ็นต์รับ ETP วันที่ 8.07.2564_page1.jpg  14.0   \n",
       "14  เอกสารเซ็นต์รับ ETP วันที่ 8.07.2564_page1.jpg  15.0   \n",
       "15  เอกสารเซ็นต์รับ ETP วันที่ 8.07.2564_page1.jpg  16.0   \n",
       "16  เอกสารเซ็นต์รับ ETP วันที่ 8.07.2564_page1.jpg  17.0   \n",
       "17  เอกสารเซ็นต์รับ ETP วันที่ 8.07.2564_page1.jpg  18.0   \n",
       "18  เอกสารเซ็นต์รับ ETP วันที่ 8.07.2564_page1.jpg  19.0   \n",
       "19  เอกสารเซ็นต์รับ ETP วันที่ 8.07.2564_page1.jpg  20.0   \n",
       "20  เอกสารเซ็นต์รับ ETP วันที่ 8.07.2564_page1.jpg  21.0   \n",
       "21  เอกสารเซ็นต์รับ ETP วันที่ 8.07.2564_page1.jpg  22.0   \n",
       "22  เอกสารเซ็นต์รับ ETP วันที่ 8.07.2564_page1.jpg  23.0   \n",
       "23  เอกสารเซ็นต์รับ ETP วันที่ 8.07.2564_page1.jpg  24.0   \n",
       "24  เอกสารเซ็นต์รับ ETP วันที่ 8.07.2564_page1.jpg  25.0   \n",
       "25  เอกสารเซ็นต์รับ ETP วันที่ 8.07.2564_page1.jpg  26.0   \n",
       "26  เอกสารเซ็นต์รับ ETP วันที่ 8.07.2564_page1.jpg  27.0   \n",
       "\n",
       "                                                    2       3       4       5  \\\n",
       "0                                           9900F-812  2920.0   627.0  3168.0   \n",
       "1                                 uuuWasNludidatanays  1637.0   698.0  2225.0   \n",
       "2                                         naanisunaun   909.0   845.0  1177.0   \n",
       "3                                              areaqy  1378.0   843.0  1526.0   \n",
       "4                                       Prerrerrerrrt  1648.0   883.0  1766.0   \n",
       "5                                             retiree  1774.0   883.0  1981.0   \n",
       "6   enenseesenseuseaseaserenaneennennennenneneenas...  1199.0   995.0  1785.0   \n",
       "7                                              LANWNS  1049.0   943.0  1201.0   \n",
       "8                                             /aIsIIU  2027.0   926.0  2195.0   \n",
       "9                               eererrerrrrrrrrrriiri  1190.0  1071.0  1383.0   \n",
       "10                                             AINMAN  1412.0  1035.0  1578.0   \n",
       "11                      enenannennenaenaenaensenacene  1864.0  1082.0  2137.0   \n",
       "12                                     tueeeconcceces   865.0  1086.0   990.0   \n",
       "13                                             leanne  2326.0  1164.0  2403.0   \n",
       "14  eneneeeneensnennannennenaenannaewenseeueusenee...  2576.0  1161.0  3208.0   \n",
       "15                                            PROJECT  2157.0  1198.0  2307.0   \n",
       "16            Seerrerrrrrerrrrertrrttrtttttrtrrttrttt  2463.0  1234.0  2823.0   \n",
       "17                                          VIBASLAIA  1541.0  1340.0  1761.0   \n",
       "18                                       AIWVNIIIVLAN  2831.0  1333.0  3180.0   \n",
       "19                                           ETHYLENE  1249.0  1572.0  1504.0   \n",
       "20                                          PROPYLENE  1250.0  1752.0  1533.0   \n",
       "21                               sanatbeiseneasetesng  2569.0  1913.0  2772.0   \n",
       "22                                    nonnnsnovewenis  2955.0  1907.0  3091.0   \n",
       "23                                          BDANIUIIW  2740.0  2040.0  2961.0   \n",
       "24                                          Equipment  1007.0  2088.0  1221.0   \n",
       "25                                          30/6/2021  2044.0  2084.0  2289.0   \n",
       "26                                  ATAawuUNaINuAAUGI  2582.0  2188.0  3193.0   \n",
       "\n",
       "         6  \n",
       "0    657.0  \n",
       "1    752.0  \n",
       "2    873.0  \n",
       "3    871.0  \n",
       "4    911.0  \n",
       "5    911.0  \n",
       "6   1003.0  \n",
       "7    971.0  \n",
       "8    972.0  \n",
       "9   1099.0  \n",
       "10  1072.0  \n",
       "11  1088.0  \n",
       "12  1091.0  \n",
       "13  1170.0  \n",
       "14  1169.0  \n",
       "15  1223.0  \n",
       "16  1262.0  \n",
       "17  1368.0  \n",
       "18  1363.0  \n",
       "19  1606.0  \n",
       "20  1787.0  \n",
       "21  1948.0  \n",
       "22  1939.0  \n",
       "23  2068.0  \n",
       "24  2131.0  \n",
       "25  2117.0  \n",
       "26  2225.0  "
      ]
     },
     "execution_count": 80,
     "metadata": {},
     "output_type": "execute_result"
    }
   ],
   "source": [
    "df1"
   ]
  },
  {
   "cell_type": "code",
   "execution_count": 18,
   "id": "cbb3a53a-fdc9-45a0-b227-967ddd84a4bc",
   "metadata": {
    "collapsed": true,
    "jupyter": {
     "outputs_hidden": true
    },
    "tags": []
   },
   "outputs": [
    {
     "ename": "TypeError",
     "evalue": "Image data of dtype object cannot be converted to float",
     "output_type": "error",
     "traceback": [
      "\u001b[1;31m---------------------------------------------------------------------------\u001b[0m",
      "\u001b[1;31mTypeError\u001b[0m                                 Traceback (most recent call last)",
      "\u001b[1;32m<ipython-input-18-29cdfa6e8157>\u001b[0m in \u001b[0;36m<module>\u001b[1;34m\u001b[0m\n\u001b[0;32m      1\u001b[0m \u001b[0mim\u001b[0m \u001b[1;33m=\u001b[0m \u001b[0mcv2\u001b[0m\u001b[1;33m.\u001b[0m\u001b[0mimread\u001b[0m\u001b[1;33m(\u001b[0m\u001b[0mimage\u001b[0m\u001b[1;33m)\u001b[0m\u001b[1;33m\u001b[0m\u001b[1;33m\u001b[0m\u001b[0m\n\u001b[1;32m----> 2\u001b[1;33m \u001b[0mplt\u001b[0m\u001b[1;33m.\u001b[0m\u001b[0mimshow\u001b[0m\u001b[1;33m(\u001b[0m\u001b[0mim\u001b[0m\u001b[1;33m)\u001b[0m\u001b[1;33m\u001b[0m\u001b[1;33m\u001b[0m\u001b[0m\n\u001b[0m",
      "\u001b[1;32mn:\\Anaconda3\\lib\\site-packages\\matplotlib\\pyplot.py\u001b[0m in \u001b[0;36mimshow\u001b[1;34m(X, cmap, norm, aspect, interpolation, alpha, vmin, vmax, origin, extent, filternorm, filterrad, resample, url, data, **kwargs)\u001b[0m\n\u001b[0;32m   2722\u001b[0m         \u001b[0mfilternorm\u001b[0m\u001b[1;33m=\u001b[0m\u001b[1;32mTrue\u001b[0m\u001b[1;33m,\u001b[0m \u001b[0mfilterrad\u001b[0m\u001b[1;33m=\u001b[0m\u001b[1;36m4.0\u001b[0m\u001b[1;33m,\u001b[0m \u001b[0mresample\u001b[0m\u001b[1;33m=\u001b[0m\u001b[1;32mNone\u001b[0m\u001b[1;33m,\u001b[0m \u001b[0murl\u001b[0m\u001b[1;33m=\u001b[0m\u001b[1;32mNone\u001b[0m\u001b[1;33m,\u001b[0m\u001b[1;33m\u001b[0m\u001b[1;33m\u001b[0m\u001b[0m\n\u001b[0;32m   2723\u001b[0m         data=None, **kwargs):\n\u001b[1;32m-> 2724\u001b[1;33m     __ret = gca().imshow(\n\u001b[0m\u001b[0;32m   2725\u001b[0m         \u001b[0mX\u001b[0m\u001b[1;33m,\u001b[0m \u001b[0mcmap\u001b[0m\u001b[1;33m=\u001b[0m\u001b[0mcmap\u001b[0m\u001b[1;33m,\u001b[0m \u001b[0mnorm\u001b[0m\u001b[1;33m=\u001b[0m\u001b[0mnorm\u001b[0m\u001b[1;33m,\u001b[0m \u001b[0maspect\u001b[0m\u001b[1;33m=\u001b[0m\u001b[0maspect\u001b[0m\u001b[1;33m,\u001b[0m\u001b[1;33m\u001b[0m\u001b[1;33m\u001b[0m\u001b[0m\n\u001b[0;32m   2726\u001b[0m         \u001b[0minterpolation\u001b[0m\u001b[1;33m=\u001b[0m\u001b[0minterpolation\u001b[0m\u001b[1;33m,\u001b[0m \u001b[0malpha\u001b[0m\u001b[1;33m=\u001b[0m\u001b[0malpha\u001b[0m\u001b[1;33m,\u001b[0m \u001b[0mvmin\u001b[0m\u001b[1;33m=\u001b[0m\u001b[0mvmin\u001b[0m\u001b[1;33m,\u001b[0m\u001b[1;33m\u001b[0m\u001b[1;33m\u001b[0m\u001b[0m\n",
      "\u001b[1;32mn:\\Anaconda3\\lib\\site-packages\\matplotlib\\__init__.py\u001b[0m in \u001b[0;36minner\u001b[1;34m(ax, data, *args, **kwargs)\u001b[0m\n\u001b[0;32m   1445\u001b[0m     \u001b[1;32mdef\u001b[0m \u001b[0minner\u001b[0m\u001b[1;33m(\u001b[0m\u001b[0max\u001b[0m\u001b[1;33m,\u001b[0m \u001b[1;33m*\u001b[0m\u001b[0margs\u001b[0m\u001b[1;33m,\u001b[0m \u001b[0mdata\u001b[0m\u001b[1;33m=\u001b[0m\u001b[1;32mNone\u001b[0m\u001b[1;33m,\u001b[0m \u001b[1;33m**\u001b[0m\u001b[0mkwargs\u001b[0m\u001b[1;33m)\u001b[0m\u001b[1;33m:\u001b[0m\u001b[1;33m\u001b[0m\u001b[1;33m\u001b[0m\u001b[0m\n\u001b[0;32m   1446\u001b[0m         \u001b[1;32mif\u001b[0m \u001b[0mdata\u001b[0m \u001b[1;32mis\u001b[0m \u001b[1;32mNone\u001b[0m\u001b[1;33m:\u001b[0m\u001b[1;33m\u001b[0m\u001b[1;33m\u001b[0m\u001b[0m\n\u001b[1;32m-> 1447\u001b[1;33m             \u001b[1;32mreturn\u001b[0m \u001b[0mfunc\u001b[0m\u001b[1;33m(\u001b[0m\u001b[0max\u001b[0m\u001b[1;33m,\u001b[0m \u001b[1;33m*\u001b[0m\u001b[0mmap\u001b[0m\u001b[1;33m(\u001b[0m\u001b[0msanitize_sequence\u001b[0m\u001b[1;33m,\u001b[0m \u001b[0margs\u001b[0m\u001b[1;33m)\u001b[0m\u001b[1;33m,\u001b[0m \u001b[1;33m**\u001b[0m\u001b[0mkwargs\u001b[0m\u001b[1;33m)\u001b[0m\u001b[1;33m\u001b[0m\u001b[1;33m\u001b[0m\u001b[0m\n\u001b[0m\u001b[0;32m   1448\u001b[0m \u001b[1;33m\u001b[0m\u001b[0m\n\u001b[0;32m   1449\u001b[0m         \u001b[0mbound\u001b[0m \u001b[1;33m=\u001b[0m \u001b[0mnew_sig\u001b[0m\u001b[1;33m.\u001b[0m\u001b[0mbind\u001b[0m\u001b[1;33m(\u001b[0m\u001b[0max\u001b[0m\u001b[1;33m,\u001b[0m \u001b[1;33m*\u001b[0m\u001b[0margs\u001b[0m\u001b[1;33m,\u001b[0m \u001b[1;33m**\u001b[0m\u001b[0mkwargs\u001b[0m\u001b[1;33m)\u001b[0m\u001b[1;33m\u001b[0m\u001b[1;33m\u001b[0m\u001b[0m\n",
      "\u001b[1;32mn:\\Anaconda3\\lib\\site-packages\\matplotlib\\axes\\_axes.py\u001b[0m in \u001b[0;36mimshow\u001b[1;34m(self, X, cmap, norm, aspect, interpolation, alpha, vmin, vmax, origin, extent, filternorm, filterrad, resample, url, **kwargs)\u001b[0m\n\u001b[0;32m   5521\u001b[0m                               resample=resample, **kwargs)\n\u001b[0;32m   5522\u001b[0m \u001b[1;33m\u001b[0m\u001b[0m\n\u001b[1;32m-> 5523\u001b[1;33m         \u001b[0mim\u001b[0m\u001b[1;33m.\u001b[0m\u001b[0mset_data\u001b[0m\u001b[1;33m(\u001b[0m\u001b[0mX\u001b[0m\u001b[1;33m)\u001b[0m\u001b[1;33m\u001b[0m\u001b[1;33m\u001b[0m\u001b[0m\n\u001b[0m\u001b[0;32m   5524\u001b[0m         \u001b[0mim\u001b[0m\u001b[1;33m.\u001b[0m\u001b[0mset_alpha\u001b[0m\u001b[1;33m(\u001b[0m\u001b[0malpha\u001b[0m\u001b[1;33m)\u001b[0m\u001b[1;33m\u001b[0m\u001b[1;33m\u001b[0m\u001b[0m\n\u001b[0;32m   5525\u001b[0m         \u001b[1;32mif\u001b[0m \u001b[0mim\u001b[0m\u001b[1;33m.\u001b[0m\u001b[0mget_clip_path\u001b[0m\u001b[1;33m(\u001b[0m\u001b[1;33m)\u001b[0m \u001b[1;32mis\u001b[0m \u001b[1;32mNone\u001b[0m\u001b[1;33m:\u001b[0m\u001b[1;33m\u001b[0m\u001b[1;33m\u001b[0m\u001b[0m\n",
      "\u001b[1;32mn:\\Anaconda3\\lib\\site-packages\\matplotlib\\image.py\u001b[0m in \u001b[0;36mset_data\u001b[1;34m(self, A)\u001b[0m\n\u001b[0;32m    700\u001b[0m         if (self._A.dtype != np.uint8 and\n\u001b[0;32m    701\u001b[0m                 not np.can_cast(self._A.dtype, float, \"same_kind\")):\n\u001b[1;32m--> 702\u001b[1;33m             raise TypeError(\"Image data of dtype {} cannot be converted to \"\n\u001b[0m\u001b[0;32m    703\u001b[0m                             \"float\".format(self._A.dtype))\n\u001b[0;32m    704\u001b[0m \u001b[1;33m\u001b[0m\u001b[0m\n",
      "\u001b[1;31mTypeError\u001b[0m: Image data of dtype object cannot be converted to float"
     ]
    },
    {
     "data": {
      "image/png": "[encoded data removed]",
      "text/plain": [
       "<Figure size 432x288 with 1 Axes>"
      ]
     },
     "metadata": {
      "needs_background": "light"
     },
     "output_type": "display_data"
    }
   ],
   "source": [
    "im = cv2.imread(image)\n",
    "plt.imshow(im)"
   ]
  },
  {
   "cell_type": "code",
   "execution_count": 16,
   "id": "7e49db53-6ad0-42d7-a12c-c4eade627bef",
   "metadata": {
    "collapsed": true,
    "jupyter": {
     "outputs_hidden": true
    },
    "tags": []
   },
   "outputs": [
    {
     "data": {
      "text/plain": [
       "NoneType"
      ]
     },
     "execution_count": 16,
     "metadata": {},
     "output_type": "execute_result"
    }
   ],
   "source": [
    "type(im)"
   ]
  },
  {
   "cell_type": "code",
   "execution_count": 9,
   "id": "3cfaf1c5-108c-404d-bcb6-6dd4fab152a0",
   "metadata": {
    "collapsed": true,
    "jupyter": {
     "outputs_hidden": true
    }
   },
   "outputs": [
    {
     "ename": "AttributeError",
     "evalue": "'NoneType' object has no attribute 'copy'",
     "output_type": "error",
     "traceback": [
      "\u001b[1;31m---------------------------------------------------------------------------\u001b[0m",
      "\u001b[1;31mAttributeError\u001b[0m                            Traceback (most recent call last)",
      "\u001b[1;32m<ipython-input-9-2c7cf3654fb3>\u001b[0m in \u001b[0;36m<module>\u001b[1;34m\u001b[0m\n\u001b[1;32m----> 1\u001b[1;33m \u001b[0mdf0\u001b[0m \u001b[1;33m=\u001b[0m \u001b[0mcreate_rectangle_dataframe\u001b[0m\u001b[1;33m(\u001b[0m\u001b[0mimage\u001b[0m\u001b[1;33m,\u001b[0m\u001b[0mfile\u001b[0m\u001b[1;33m)\u001b[0m\u001b[1;33m\u001b[0m\u001b[1;33m\u001b[0m\u001b[0m\n\u001b[0m",
      "\u001b[1;32m<ipython-input-2-12136a1d4b40>\u001b[0m in \u001b[0;36mcreate_rectangle_dataframe\u001b[1;34m(image, file)\u001b[0m\n\u001b[0;32m      1\u001b[0m \u001b[1;32mdef\u001b[0m \u001b[0mcreate_rectangle_dataframe\u001b[0m\u001b[1;33m(\u001b[0m\u001b[0mimage\u001b[0m\u001b[1;33m,\u001b[0m\u001b[0mfile\u001b[0m\u001b[1;33m)\u001b[0m\u001b[1;33m:\u001b[0m\u001b[1;33m\u001b[0m\u001b[1;33m\u001b[0m\u001b[0m\n\u001b[0;32m      2\u001b[0m     \u001b[0mimg0\u001b[0m \u001b[1;33m=\u001b[0m \u001b[0mcv2\u001b[0m\u001b[1;33m.\u001b[0m\u001b[0mimread\u001b[0m\u001b[1;33m(\u001b[0m\u001b[0mimage\u001b[0m\u001b[1;33m)\u001b[0m\u001b[1;33m\u001b[0m\u001b[1;33m\u001b[0m\u001b[0m\n\u001b[1;32m----> 3\u001b[1;33m     \u001b[0mimg\u001b[0m \u001b[1;33m=\u001b[0m \u001b[0mimg0\u001b[0m\u001b[1;33m.\u001b[0m\u001b[0mcopy\u001b[0m\u001b[1;33m(\u001b[0m\u001b[1;33m)\u001b[0m\u001b[1;33m\u001b[0m\u001b[1;33m\u001b[0m\u001b[0m\n\u001b[0m\u001b[0;32m      4\u001b[0m     \u001b[0mdf\u001b[0m \u001b[1;33m=\u001b[0m \u001b[0mpd\u001b[0m\u001b[1;33m.\u001b[0m\u001b[0mDataFrame\u001b[0m\u001b[1;33m(\u001b[0m\u001b[1;33m)\u001b[0m\u001b[1;33m\u001b[0m\u001b[1;33m\u001b[0m\u001b[0m\n\u001b[0;32m      5\u001b[0m     \u001b[0md\u001b[0m \u001b[1;33m=\u001b[0m \u001b[0mpytesseract\u001b[0m\u001b[1;33m.\u001b[0m\u001b[0mimage_to_data\u001b[0m\u001b[1;33m(\u001b[0m\u001b[0mimg\u001b[0m\u001b[1;33m,\u001b[0m \u001b[0moutput_type\u001b[0m\u001b[1;33m=\u001b[0m\u001b[0mOutput\u001b[0m\u001b[1;33m.\u001b[0m\u001b[0mDICT\u001b[0m\u001b[1;33m,\u001b[0m \u001b[0mconfig\u001b[0m\u001b[1;33m=\u001b[0m\u001b[1;34m'--psm 12'\u001b[0m\u001b[1;33m)\u001b[0m\u001b[1;33m\u001b[0m\u001b[1;33m\u001b[0m\u001b[0m\n",
      "\u001b[1;31mAttributeError\u001b[0m: 'NoneType' object has no attribute 'copy'"
     ]
    }
   ],
   "source": [
    "df0 = create_rectangle_dataframe(image,file)"
   ]
  },
  {
   "cell_type": "code",
   "execution_count": 20,
   "id": "42bff08c-ef94-4b64-a56d-a87d17bca1e7",
   "metadata": {
    "collapsed": true,
    "jupyter": {
     "outputs_hidden": true
    },
    "tags": []
   },
   "outputs": [
    {
     "data": {
      "text/plain": [
       "832926"
      ]
     },
     "execution_count": 20,
     "metadata": {},
     "output_type": "execute_result"
    }
   ],
   "source": [
    "len(df)"
   ]
  },
  {
   "cell_type": "code",
   "execution_count": null,
   "id": "constitutional-character",
   "metadata": {
    "collapsed": true,
    "jupyter": {
     "outputs_hidden": true
    }
   },
   "outputs": [],
   "source": [
    "import numpy as np\n",
    "import cv2\n",
    "img=cv2.imread('N:/OneDrive - IRPC/My IRPC Projects/Digital Transfomation/EM Digital Improvement/image2text/pid_1.jpg',1)    #changed image format to jpg\n",
    "cv2.namedWindow('img',cv2.WINDOW_NORMAL)\n",
    "cv2.Waitkey(10000)\n",
    "cv2.imshow('cv2.WINDOW_NORMAL',img)\n",
    "cv2.destoryAllWindows()"
   ]
  },
  {
   "cell_type": "code",
   "execution_count": null,
   "id": "realistic-investing",
   "metadata": {
    "collapsed": true,
    "jupyter": {
     "outputs_hidden": true
    }
   },
   "outputs": [],
   "source": [
    "img = cv2.imread(\"pid_1.jpg\", cv2.IMREAD_GRAYSCALE)\n",
    "src = cv2.cuda_GpuMat()\n",
    "src.upload(img)\n",
    "\n",
    "clahe = cv2.cuda.createCLAHE(clipLimit=5.0, tileGridSize=(8, 8))\n",
    "dst = clahe.apply(src, cv2.cuda_Stream.Null())\n",
    "\n",
    "result = dst.download()\n",
    "\n",
    "cv2.imshow(\"result\", result)\n",
    "cv2.waitKey(0)"
   ]
  },
  {
   "cell_type": "code",
   "execution_count": null,
   "id": "traditional-boards",
   "metadata": {
    "collapsed": true,
    "jupyter": {
     "outputs_hidden": true
    },
    "tags": []
   },
   "outputs": [],
   "source": [
    "print(cv2.getBuildInformation())"
   ]
  },
  {
   "cell_type": "code",
   "execution_count": null,
   "id": "leading-congress",
   "metadata": {
    "collapsed": true,
    "jupyter": {
     "outputs_hidden": true
    }
   },
   "outputs": [],
   "source": [
    "plt.imshow(img[:,:,::-1])"
   ]
  },
  {
   "cell_type": "code",
   "execution_count": null,
   "id": "communist-processing",
   "metadata": {
    "collapsed": true,
    "jupyter": {
     "outputs_hidden": true
    }
   },
   "outputs": [],
   "source": [
    "cv2.rotate(img0,90)"
   ]
  },
  {
   "cell_type": "code",
   "execution_count": null,
   "id": "grave-madness",
   "metadata": {
    "tags": []
   },
   "outputs": [],
   "source": [
    "img0 = cv2.imread('69-P-1-03-004-3-24_1.jpg')\n",
    "img = img0.copy()\n",
    "df = pd.DataFrame()\n",
    "d = pytesseract.image_to_data(img, output_type=Output.DICT)\n",
    "n_boxes = len(d['level'])\n",
    "# for i in range(n_boxes):\n",
    "#     (x, y, w, h) = (d['left'][i], d['top'][i], d['width'][i], d['height'][i])\n",
    "#     cv2.rectangle(img, (x, y), (x + w, y + h), (0, 255, 0), 2)\n",
    "# plt.imshow(img)\n",
    "# plt.imsave('box.jpg',img)\n",
    "# cv2.imshow('img', img)\n",
    "# cv2.waitKey(0)\n",
    "for i in range(n_boxes):\n",
    "    l = []\n",
    "    (x, y, w, h) = (d['left'][i], d['top'][i], d['width'][i], d['height'][i])\n",
    "#     text = d['text'][i]\n",
    "    text = d['text'][i].replace('—','-').replace('~','-')\n",
    "    if len(text.strip())>5 :\n",
    "        l = pd.Series([text, x, y, x+w, y+h])\n",
    "        df = df.append(l,ignore_index=True)\n",
    "        (x, y, w, h) = (d['left'][i], d['top'][i], d['width'][i], d['height'][i])\n",
    "        cv2.rectangle(img, (x, y), (x + w, y + h), (0, 255, 0), 2)\n",
    "        cv2.putText(img, text, (x, y - 10),cv2.FONT_HERSHEY_SIMPLEX, 0.8, (255, 0, 0), 2)\n",
    "#         print(i,l.tolist())\n",
    "plt.imshow(img)\n",
    "plt.imsave('box1.jpg',img)\n",
    "#     print(text, x, y, x+w, y+h)"
   ]
  },
  {
   "cell_type": "code",
   "execution_count": null,
   "id": "surface-reading",
   "metadata": {
    "collapsed": true,
    "jupyter": {
     "outputs_hidden": true
    }
   },
   "outputs": [],
   "source": [
    "import cv2\n",
    "cv2.__version__"
   ]
  },
  {
   "cell_type": "code",
   "execution_count": null,
   "id": "valid-intranet",
   "metadata": {
    "collapsed": true,
    "jupyter": {
     "outputs_hidden": true
    }
   },
   "outputs": [],
   "source": [
    "print(cv2.getBuildInformation()) "
   ]
  },
  {
   "cell_type": "code",
   "execution_count": null,
   "id": "rolled-spread",
   "metadata": {
    "collapsed": true,
    "jupyter": {
     "outputs_hidden": true
    }
   },
   "outputs": [],
   "source": [
    " img1 = cv2.imread('box1.jpg')\n",
    "\n",
    " # show image\n",
    "\n",
    " cv2.imshow('box1.jpg',img1)\n",
    "    \n",
    "    \n",
    " cv2.waitKey(0)\n",
    " cv2.destroyAllWindows()"
   ]
  },
  {
   "cell_type": "code",
   "execution_count": null,
   "id": "central-breakfast",
   "metadata": {
    "collapsed": true,
    "jupyter": {
     "outputs_hidden": true
    }
   },
   "outputs": [],
   "source": [
    "img0 = cv2.imread('69-P-1-03-004-3-24_1.jpg')\n",
    "img = img0.copy()\n",
    "df = pd.DataFrame()\n",
    "d = pytesseract.image_to_data(img, output_type=Output.DICT, config='--psm 12')\n",
    "n_boxes = len(d['level'])\n",
    "# for i in range(n_boxes):\n",
    "#     (x, y, w, h) = (d['left'][i], d['top'][i], d['width'][i], d['height'][i])\n",
    "#     cv2.rectangle(img, (x, y), (x + w, y + h), (0, 255, 0), 2)\n",
    "# plt.imshow(img)\n",
    "# plt.imsave('box.jpg',img)\n",
    "# cv2.imshow('img', img)\n",
    "# cv2.waitKey(0)\n",
    "k = 0\n",
    "for i in range(n_boxes):\n",
    "    l = []\n",
    "    (x, y, w, h) = (d['left'][i], d['top'][i], d['width'][i], d['height'][i])\n",
    "#     text = d['text'][i]\n",
    "    text = d['text'][i].replace('—','-').replace('~','-')\n",
    "    if len(text.strip())>5 :\n",
    "        k = k+1\n",
    "        l = pd.Series([text, x, y, x+w, y+h])\n",
    "        df = df.append(l,ignore_index=True)\n",
    "        (x, y, w, h) = (d['left'][i], d['top'][i], d['width'][i], d['height'][i])\n",
    "        cv2.rectangle(img, (x, y), (x + w, y + h), (0, 255, 0), 2)\n",
    "        cv2.putText(img, '['+str(k)+']'+text, (x, y - 10),cv2.FONT_HERSHEY_SIMPLEX, 0.8, (255, 0, 0), 2)\n",
    "#         print(i,l.tolist())\n",
    "plt.imshow(img)\n",
    "plt.imsave('box_in_circle.jpg',img)\n",
    "#     print(text, x, y, x+w, y+h)"
   ]
  },
  {
   "cell_type": "code",
   "execution_count": null,
   "id": "american-tradition",
   "metadata": {
    "collapsed": true,
    "jupyter": {
     "outputs_hidden": true
    }
   },
   "outputs": [],
   "source": [
    "d['text']"
   ]
  },
  {
   "cell_type": "code",
   "execution_count": null,
   "id": "seven-clearing",
   "metadata": {
    "collapsed": true,
    "jupyter": {
     "outputs_hidden": true
    }
   },
   "outputs": [],
   "source": [
    "img0 = cv2.imread('testimg.jpg')\n",
    "img = img0.copy()\n",
    "df = pd.DataFrame()\n",
    "d = pytesseract.image_to_data(img, output_type=Output.DICT)\n",
    "n_boxes = len(d['level'])\n",
    "# for i in range(n_boxes):\n",
    "#     (x, y, w, h) = (d['left'][i], d['top'][i], d['width'][i], d['height'][i])\n",
    "#     cv2.rectangle(img, (x, y), (x + w, y + h), (0, 255, 0), 2)\n",
    "# plt.imshow(img)\n",
    "# plt.imsave('box.jpg',img)\n",
    "# cv2.imshow('img', img)\n",
    "# cv2.waitKey(0)\n",
    "for i in range(n_boxes):\n",
    "    l = []\n",
    "    (x, y, w, h) = (d['left'][i], d['top'][i], d['width'][i], d['height'][i])\n",
    "#     text = d['text'][i]\n",
    "    text = d['text'][i].replace('—','-').replace('~','-')\n",
    "    if len(text.strip())>5 :\n",
    "        l = pd.Series([text, x, y, x+w, y+h])\n",
    "        df = df.append(l,ignore_index=True)\n",
    "        (x, y, w, h) = (d['left'][i], d['top'][i], d['width'][i], d['height'][i])\n",
    "        cv2.rectangle(img, (x, y), (x + w, y + h), (0, 255, 0), 2)\n",
    "        print(i,l.tolist())\n",
    "plt.imshow(img)\n",
    "# plt.imsave('box.jpg',img)\n",
    "#     print(text, x, y, x+w, y+h)"
   ]
  },
  {
   "cell_type": "code",
   "execution_count": null,
   "id": "skilled-reform",
   "metadata": {
    "collapsed": true,
    "jupyter": {
     "outputs_hidden": true
    }
   },
   "outputs": [],
   "source": [
    "img0 = cv2.imread('testimg.jpg')\n",
    "img = img0.copy()\n",
    "img = cv2.rotate(img, cv2.ROTATE_90_CLOCKWISE)\n",
    "df = pd.DataFrame()\n",
    "d = pytesseract.image_to_data(img, output_type=Output.DICT)\n",
    "n_boxes = len(d['level'])\n",
    "for i in range(n_boxes):\n",
    "#     l = []\n",
    "    (x, y, w, h) = (d['left'][i], d['top'][i], d['width'][i], d['height'][i])\n",
    "#     text = d['text'][i]\n",
    "    text = d['text'][i].replace('—','-').replace('~','-')\n",
    "    if len(text.strip())>5 :\n",
    "        l = pd.Series([text, x, y, x+w, y+h])\n",
    "        df = df.append(l,ignore_index=True)\n",
    "        (x, y, w, h) = (d['left'][i], d['top'][i], d['width'][i], d['height'][i])\n",
    "        cv2.rectangle(img, (x, y), (x + w, y + h), (0, 255, 0), 2)\n",
    "        print(i,l.tolist())\n",
    "plt.imshow(img)\n",
    "# plt.imsave('box.jpg',img)\n",
    "#     print(text, x, y, x+w, y+h)"
   ]
  },
  {
   "cell_type": "code",
   "execution_count": null,
   "id": "veterinary-uncertainty",
   "metadata": {
    "collapsed": true,
    "jupyter": {
     "outputs_hidden": true
    }
   },
   "outputs": [],
   "source": []
  },
  {
   "cell_type": "code",
   "execution_count": null,
   "id": "humanitarian-leonard",
   "metadata": {
    "collapsed": true,
    "jupyter": {
     "outputs_hidden": true
    }
   },
   "outputs": [],
   "source": [
    "df.to_excel('text.xlsx')"
   ]
  },
  {
   "cell_type": "code",
   "execution_count": null,
   "id": "proved-speaker",
   "metadata": {
    "collapsed": true,
    "jupyter": {
     "outputs_hidden": true
    }
   },
   "outputs": [],
   "source": [
    "len(df)"
   ]
  },
  {
   "cell_type": "code",
   "execution_count": null,
   "id": "accurate-rating",
   "metadata": {
    "collapsed": true,
    "jupyter": {
     "outputs_hidden": true
    }
   },
   "outputs": [],
   "source": [
    "text = ' 12  -3 —5 '\n",
    "len(text.strip())>5"
   ]
  },
  {
   "cell_type": "code",
   "execution_count": null,
   "id": "offensive-december",
   "metadata": {
    "collapsed": true,
    "jupyter": {
     "outputs_hidden": true
    }
   },
   "outputs": [],
   "source": [
    "len(df)"
   ]
  },
  {
   "cell_type": "code",
   "execution_count": null,
   "id": "understood-disney",
   "metadata": {
    "collapsed": true,
    "jupyter": {
     "outputs_hidden": true
    }
   },
   "outputs": [],
   "source": [
    "df.iloc[48]"
   ]
  },
  {
   "cell_type": "code",
   "execution_count": null,
   "id": "solved-humidity",
   "metadata": {
    "collapsed": true,
    "jupyter": {
     "outputs_hidden": true
    }
   },
   "outputs": [],
   "source": [
    "df.columns = ['text','x1','y1','x2','y2']\n",
    "df.iloc[48]"
   ]
  },
  {
   "cell_type": "code",
   "execution_count": null,
   "id": "affecting-thousand",
   "metadata": {
    "collapsed": true,
    "jupyter": {
     "outputs_hidden": true
    }
   },
   "outputs": [],
   "source": [
    "text = df[df.text.apply(lambda v: len(v)>5 )]"
   ]
  },
  {
   "cell_type": "code",
   "execution_count": null,
   "id": "spiritual-wagner",
   "metadata": {
    "collapsed": true,
    "jupyter": {
     "outputs_hidden": true
    }
   },
   "outputs": [],
   "source": [
    "chr(ord('—')+1)"
   ]
  },
  {
   "cell_type": "code",
   "execution_count": null,
   "id": "mature-street",
   "metadata": {
    "collapsed": true,
    "jupyter": {
     "outputs_hidden": true
    }
   },
   "outputs": [],
   "source": [
    "text1 = df[df.text.apply(lambda v: ((len(v.strip())>5 ))&(('-' in v)|('—' in v)))]\n",
    "len(text1)"
   ]
  },
  {
   "cell_type": "code",
   "execution_count": null,
   "id": "natural-detective",
   "metadata": {
    "collapsed": true,
    "jupyter": {
     "outputs_hidden": true
    }
   },
   "outputs": [],
   "source": [
    "text1.to_excel('text.xlsx',index=False)"
   ]
  },
  {
   "cell_type": "code",
   "execution_count": null,
   "id": "daily-clark",
   "metadata": {
    "collapsed": true,
    "jupyter": {
     "outputs_hidden": true
    }
   },
   "outputs": [],
   "source": [
    "len(df.iloc[16].text)"
   ]
  },
  {
   "cell_type": "code",
   "execution_count": null,
   "id": "simple-maximum",
   "metadata": {
    "tags": []
   },
   "outputs": [],
   "source": [
    "for i in range(n_boxes):\n",
    "    (x, y, w, h) = (d['left'][i], d['top'][i], d['width'][i], d['height'][i])\n",
    "    text = d['text'][i]\n",
    "    print(text, x, y, w, h)\n",
    "    "
   ]
  },
  {
   "cell_type": "code",
   "execution_count": 76,
   "id": "af733af4-171a-48b0-a52a-5783ca74fa76",
   "metadata": {},
   "outputs": [],
   "source": [
    "################################"
   ]
  },
  {
   "cell_type": "markdown",
   "id": "9320f918-ef68-40dd-a268-71663150f063",
   "metadata": {},
   "source": [
    "# Lookup text to search on drawing"
   ]
  },
  {
   "cell_type": "code",
   "execution_count": 1,
   "id": "classified-belgium",
   "metadata": {},
   "outputs": [],
   "source": [
    "import pandas as pd\n",
    "df = pd.read_excel('text_location.xlsx')"
   ]
  },
  {
   "cell_type": "code",
   "execution_count": 9,
   "id": "a9573860-ea8b-4f50-a22d-d1e3b05a7baa",
   "metadata": {},
   "outputs": [],
   "source": [
    "import matplotlib.pyplot as plt"
   ]
  },
  {
   "cell_type": "code",
   "execution_count": 2,
   "id": "72b2480a-3af1-442d-a708-17c32f8c58b7",
   "metadata": {},
   "outputs": [],
   "source": [
    "lookup = '23P001C'\n",
    "def find_text(lookup):\n",
    "    return df[df.text.str.contains(lookup,na=False)]"
   ]
  },
  {
   "cell_type": "code",
   "execution_count": 3,
   "id": "c4c764ed-5f5e-4888-a29e-c55e2eeb94f9",
   "metadata": {},
   "outputs": [
    {
     "data": {
      "text/html": [
       "<div>\n",
       "<style scoped>\n",
       "    .dataframe tbody tr th:only-of-type {\n",
       "        vertical-align: middle;\n",
       "    }\n",
       "\n",
       "    .dataframe tbody tr th {\n",
       "        vertical-align: top;\n",
       "    }\n",
       "\n",
       "    .dataframe thead th {\n",
       "        text-align: right;\n",
       "    }\n",
       "</style>\n",
       "<table border=\"1\" class=\"dataframe\">\n",
       "  <thead>\n",
       "    <tr style=\"text-align: right;\">\n",
       "      <th></th>\n",
       "      <th>Unnamed: 0</th>\n",
       "      <th>file_name</th>\n",
       "      <th>id</th>\n",
       "      <th>text</th>\n",
       "      <th>x1</th>\n",
       "      <th>y1</th>\n",
       "      <th>x2</th>\n",
       "      <th>y2</th>\n",
       "    </tr>\n",
       "  </thead>\n",
       "  <tbody>\n",
       "    <tr>\n",
       "      <th>266426</th>\n",
       "      <td>90</td>\n",
       "      <td>19_08-P123001-3-AR2-Layout3-Layout1_page1.jpg</td>\n",
       "      <td>91</td>\n",
       "      <td>23P001C</td>\n",
       "      <td>1699</td>\n",
       "      <td>4334</td>\n",
       "      <td>1931</td>\n",
       "      <td>4378</td>\n",
       "    </tr>\n",
       "  </tbody>\n",
       "</table>\n",
       "</div>"
      ],
      "text/plain": [
       "        Unnamed: 0                                      file_name  id  \\\n",
       "266426          90  19_08-P123001-3-AR2-Layout3-Layout1_page1.jpg  91   \n",
       "\n",
       "           text    x1    y1    x2    y2  \n",
       "266426  23P001C  1699  4334  1931  4378  "
      ]
     },
     "execution_count": 3,
     "metadata": {},
     "output_type": "execute_result"
    }
   ],
   "source": [
    "find_text(lookup=lookup)"
   ]
  },
  {
   "cell_type": "code",
   "execution_count": 4,
   "id": "84d51d03-f059-410e-9932-e0d3746648fe",
   "metadata": {},
   "outputs": [
    {
     "data": {
      "text/plain": [
       "1699"
      ]
     },
     "execution_count": 4,
     "metadata": {},
     "output_type": "execute_result"
    }
   ],
   "source": [
    "find_text(lookup=lookup).x1.item()"
   ]
  },
  {
   "cell_type": "code",
   "execution_count": 27,
   "id": "7c64a2d6-a9cc-47b0-9894-fcb324dcb3c1",
   "metadata": {},
   "outputs": [],
   "source": [
    "# https://betterprogramming.pub/highlighting-specific-word-in-an-input-image-1cf3d4f8ae27\n",
    "# https://www.geeksforgeeks.org/python-opencv-cv2-arrowedline-method/\n",
    "read_folder = r'./images/'\n",
    "save_folder = r'./'\n",
    "image = read_folder+find_text(lookup=lookup).file_name.item()\n",
    "file = find_text(lookup=lookup).file_name.item()\n",
    "x1 = find_text(lookup=lookup).x1.item()\n",
    "x2 = find_text(lookup=lookup).x2.item()\n",
    "y1 = find_text(lookup=lookup).y1.item()\n",
    "y2 = find_text(lookup=lookup).y2.item()\n",
    "# crop_text = cv2_imread_win(image,np)[y1:y2,x1:x2]\n",
    "def find_drawing(image,file,saved_folder):\n",
    "    img0 = cv2_imread_win(image,np)\n",
    "    img = img0.copy()\n",
    "    cv2.rectangle(img, (x1, y1), (x2, y2), (255, 0, 0), -1)\n",
    "#     cv2.putText(img, find_text(lookup=lookup).text.item(), (x1, y2),cv2.FONT_HERSHEY_SIMPLEX, 0.8, (255, 0, 0), 2)\n",
    "#     img[y1:y2,x1:x2] = crop_text\n",
    "    alpha = 0.6  # Transparency factor.\n",
    "    # Following line overlays transparent rectangle over the image\n",
    "    img_new = cv2.addWeighted(img, alpha, img0, 1 - alpha, 0)\n",
    "    img_new = cv2.arrowedLine(img_new, (x1-50,y1-50), (x1,y1),\n",
    "                                     color=(0, 255, 0), thickness=9, tipLength = 0.5)\n",
    "    plt.imsave(saved_folder+file,img_new)\n",
    "    return(find_text(lookup=lookup))"
   ]
  },
  {
   "cell_type": "code",
   "execution_count": 28,
   "id": "319721e4-116e-4c51-8ce9-05691cdd6008",
   "metadata": {},
   "outputs": [
    {
     "data": {
      "text/html": [
       "<div>\n",
       "<style scoped>\n",
       "    .dataframe tbody tr th:only-of-type {\n",
       "        vertical-align: middle;\n",
       "    }\n",
       "\n",
       "    .dataframe tbody tr th {\n",
       "        vertical-align: top;\n",
       "    }\n",
       "\n",
       "    .dataframe thead th {\n",
       "        text-align: right;\n",
       "    }\n",
       "</style>\n",
       "<table border=\"1\" class=\"dataframe\">\n",
       "  <thead>\n",
       "    <tr style=\"text-align: right;\">\n",
       "      <th></th>\n",
       "      <th>Unnamed: 0</th>\n",
       "      <th>file_name</th>\n",
       "      <th>id</th>\n",
       "      <th>text</th>\n",
       "      <th>x1</th>\n",
       "      <th>y1</th>\n",
       "      <th>x2</th>\n",
       "      <th>y2</th>\n",
       "    </tr>\n",
       "  </thead>\n",
       "  <tbody>\n",
       "    <tr>\n",
       "      <th>266426</th>\n",
       "      <td>90</td>\n",
       "      <td>19_08-P123001-3-AR2-Layout3-Layout1_page1.jpg</td>\n",
       "      <td>91</td>\n",
       "      <td>23P001C</td>\n",
       "      <td>1699</td>\n",
       "      <td>4334</td>\n",
       "      <td>1931</td>\n",
       "      <td>4378</td>\n",
       "    </tr>\n",
       "  </tbody>\n",
       "</table>\n",
       "</div>"
      ],
      "text/plain": [
       "        Unnamed: 0                                      file_name  id  \\\n",
       "266426          90  19_08-P123001-3-AR2-Layout3-Layout1_page1.jpg  91   \n",
       "\n",
       "           text    x1    y1    x2    y2  \n",
       "266426  23P001C  1699  4334  1931  4378  "
      ]
     },
     "execution_count": 28,
     "metadata": {},
     "output_type": "execute_result"
    }
   ],
   "source": [
    "find_drawing(image,file,save_folder)"
   ]
  },
  {
   "cell_type": "code",
   "execution_count": 2,
   "id": "35049415-59d6-4eed-b106-2e69fb2aafb0",
   "metadata": {},
   "outputs": [],
   "source": [
    "######################################"
   ]
  },
  {
   "cell_type": "code",
   "execution_count": 98,
   "id": "bba54817-0601-4e87-a452-56f434d08b16",
   "metadata": {},
   "outputs": [
    {
     "name": "stdout",
     "output_type": "stream",
     "text": [
      "['./images/19_08-P123001-3-AR2-Layout3-Layout1_page1.jpg']\n"
     ]
    }
   ],
   "source": [
    "read_folder = r'./images/'\n",
    "print(read_folder+find_text(lookup=lookup).file_name.values)"
   ]
  },
  {
   "cell_type": "code",
   "execution_count": 101,
   "id": "ae2e5967-9a2e-45bc-bd2b-fd9c28e0df40",
   "metadata": {},
   "outputs": [
    {
     "data": {
      "text/plain": [
       "array([1699], dtype=int64)"
      ]
     },
     "execution_count": 101,
     "metadata": {},
     "output_type": "execute_result"
    }
   ],
   "source": [
    "find_text(lookup=lookup).x1.values"
   ]
  },
  {
   "cell_type": "code",
   "execution_count": null,
   "id": "446444b6-4587-4cce-8022-c63a168b3db0",
   "metadata": {},
   "outputs": [],
   "source": []
  }
 ],
 "metadata": {
  "kernelspec": {
   "display_name": "Python 3",
   "language": "python",
   "name": "python3"
  },
  "language_info": {
   "codemirror_mode": {
    "name": "ipython",
    "version": 3
   },
   "file_extension": ".py",
   "mimetype": "text/x-python",
   "name": "python",
   "nbconvert_exporter": "python",
   "pygments_lexer": "ipython3",
   "version": "3.8.8"
  }
 },
 "nbformat": 4,
 "nbformat_minor": 5
}
